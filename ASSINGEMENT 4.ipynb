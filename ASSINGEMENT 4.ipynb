{
 "cells": [
  {
   "attachments": {},
   "cell_type": "markdown",
   "metadata": {},
   "source": [
    "Q1. Which two operator overloading methods can you use in your classes to support iteration?\n",
    "\n",
    "ANS-In Python, you can use the \"__iter__()\" and \"__next__()\" operator overloading methods in your classes to support iteration. The \"__iter__()\" method returns the iterator object and is implicitly called at the start of loops. The \"__next__()\" method returns the next value from the iterator. When there are no more items to return, it should raise StopIteration exception"
   ]
  },
  {
   "attachments": {},
   "cell_type": "markdown",
   "metadata": {},
   "source": [
    "Q2. In what contexts do the two operator overloading methods manage printing?\n",
    "\n",
    "ANS-The two operator overloading methods __str__() and __repr__() manage printing in Python. The __str__() method is used to define the string representation of an object. It is called by the str() built-in function and by the print statement to compute the “informal” or nicely printable string representation of an object. The __repr__() method is used to define the string representation of an object. It is called by the repr() built-in function and by the interactive interpreter to compute the “official” string representation of an objec"
   ]
  },
  {
   "attachments": {},
   "cell_type": "markdown",
   "metadata": {},
   "source": [
    "Q3. In a class, how do you intercept slice operations?\n",
    "\n",
    "ANS-In Python, you can intercept slice operations in a class by defining the __getitem__() method. The __getitem__() method is called when an object is accessed using the square bracket notation. It takes one argument, which is either an integer index or a slice object. If the argument is an integer index, the method should return the corresponding item. If the argument is a slice object, the method should return a new object that represents the slice"
   ]
  },
  {
   "attachments": {},
   "cell_type": "markdown",
   "metadata": {},
   "source": [
    "Q4. In a class, how do you capture in-place addition?\n",
    "\n",
    "ANS-1. iadd() :- This function is used to assign and add the current value. This operation does “a+=b” operation. Assigning is not performed in  case of immutable containers, such as strings, numbers and tuples.\n",
    "    2. iconcat() :- This function is used to concat one string at end of second.\n",
    "\n",
    "    To capture in-place addition in a class, you can override the magic “dunder” method __iadd__ (self, other) in your class definition1. Here is an example:\n",
    "\n",
    "class MyNumber:\n",
    "    def __init__(self, value):\n",
    "        self.value = value\n",
    "\n",
    "    def __iadd__(self, other):\n",
    "        self.value += other\n",
    "        return self\n",
    "\n",
    "number = MyNumber(5)\n",
    "\n",
    "number += 3\n",
    "print(number.value)\n",
    "In this example, the __iadd__ method is called when we try to add two objects in-place using the += operator"
   ]
  },
  {
   "attachments": {},
   "cell_type": "markdown",
   "metadata": {},
   "source": [
    "Q5. When is it appropriate to use operator overloading?\n",
    "\n",
    "ANS-Operator overloading is appropriate when you want to define custom behaviors for operators in Python. In Python, most operators such as +, -, *, /, etc., are mapped to special methods or “dunder” methods that can be defined in a class to customize the behavior of the operator when applied to instances of that class.\n",
    "\n",
    "Operator overloading is mostly useful when you’re making a new class that falls into an existing “Abstract Base Class” (ABC) – indeed, many of the ABCs in standard library module collections rely on the presence of certain special methods (and special methods, one with names starting and ending with double underscores AKA “dunders”, are exactly the way you perform operator overloading in Python).\n",
    "\n",
    "In some ways, though, overloading in Python is still as “broken” as in C++. Programmers should restrain the desire to “re-use” an operator for unrelated purposes."
   ]
  },
  {
   "cell_type": "markdown",
   "metadata": {},
   "source": []
  }
 ],
 "metadata": {
  "language_info": {
   "name": "python"
  },
  "orig_nbformat": 4
 },
 "nbformat": 4,
 "nbformat_minor": 2
}
