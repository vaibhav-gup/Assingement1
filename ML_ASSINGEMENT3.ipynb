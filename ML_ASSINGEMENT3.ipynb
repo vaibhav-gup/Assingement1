{
 "cells": [
  {
   "attachments": {},
   "cell_type": "markdown",
   "metadata": {},
   "source": [
    "1.Explain the term machine learning, and how does it work? Explain two machine learning\n",
    "applications in the business world. What are some of the ethical concerns that machine learning\n",
    "applications could raise?\n",
    "\n",
    "ANS-Machine learning is a part of artificial intelligence that uses data and algorithms to imitate how humans learn and solve problems. Machine learning programs or systems can find patterns and correlations in large data sets and use them to make decisions and predictions. Machine learning models can be equations or more complex systems of math that are trained by the input data and can improve with experience\n",
    "\n",
    "Machine learning has many applications in business, including customer lifetime value modeling, churn modeling, dynamic pricing, customer segmentation, image classification, and recommendation engines1. Other applications include prediction of customer buying behavior and improving customer satisfaction2. Machine learning is also used in manufacturing to optimize resource planning and reduce time to market3. In marketing, machine learning is used for real-time chatbot agents, decision support, customer recommendation engines, and market research and customer segmentation4. Machine learning is also used for fraud detection and image classification4.\n",
    "\n",
    "Which are the main legal and ethical issues in Machine Learning: Invasion of the privacy of individuals. Lack of transparency in automated decision making. Profiling, its lack of regulation and the resulting discriminations and biases. Our autonomy, dignity, and freedom are at risk"
   ]
  },
  {
   "attachments": {},
   "cell_type": "markdown",
   "metadata": {},
   "source": [
    "2. Describe the process of human learning:\n",
    "\n",
    "i. Under the supervision of experts\n",
    "\n",
    " In general, the developmental model of supervision defines progressive stages of supervisee development from beginner to expert, with each stage consisting of discrete characteristics and skills.\n",
    " Developmental supervision is based on the following two assumptions:\n",
    "\n",
    "In the process of becoming competent, the counsellor will progress though a number of stages that are qualitatively different from each other;\n",
    "Each stage requires a qualitatively different environment for optimum growth to occur."
   ]
  },
  {
   "attachments": {},
   "cell_type": "markdown",
   "metadata": {},
   "source": [
    "ii. With the assistance of experts in an indirect manner\n",
    "\n",
    "Lateral thinking is a manner of solving problems using an indirect and creative approach via reasoning that is not immediately obvious. It involves ideas that may not be obtainable using only traditional step-by-step logic"
   ]
  },
  {
   "attachments": {},
   "cell_type": "markdown",
   "metadata": {},
   "source": [
    "iii. Self-education\n",
    "\n",
    "Self-directed learning describes a process in which individuals take the initiative, with or without the help of others, in diagnosing their learning needs, formulating learning goals, identifying human and material resources for learning, choosing and implementing appropriate learning strategies, and evaluating learning outcomes."
   ]
  },
  {
   "attachments": {},
   "cell_type": "markdown",
   "metadata": {},
   "source": [
    "3. Provide a few examples of various types of machine learning.\n",
    "\n",
    "ANS-Supervised ,unsupervised and rainforcement"
   ]
  },
  {
   "attachments": {},
   "cell_type": "markdown",
   "metadata": {},
   "source": [
    "4. Examine the various forms of machine learning.\n",
    "\n",
    "ANS-Supervised learning\n",
    "Unsupervised learning \n",
    "Semi-supervised learning\n",
    "Reinforcement learning \n"
   ]
  },
  {
   "attachments": {},
   "cell_type": "markdown",
   "metadata": {},
   "source": [
    "5. Can you explain what a well-posed learning problem is? Explain the main characteristics that must\n",
    "be present to identify a learning problem properly.\n",
    "\n",
    "ANS-A (machine learning) problem is well-posed if a solution to it exists, if that solution is unique, and if that solution depends on the data / experience but it is not sensitive to (reasonably small) changes in the data / experience.\n",
    "\n",
    "Learning problems are present when the brain takes in and works with information in a way that is not typical. It keeps a person from learning a skill and using it well. People with learning disorders by and large have average or above-average intelligence. Common learning disorders affect a child’s ability to read, write, do math, use or understand language, socialize, learn other skills that don’t involve words1.\n",
    "\n",
    "The characteristics of learning include that it is a process, involves change, is influenced by experience and is a social activity2."
   ]
  },
  {
   "attachments": {},
   "cell_type": "markdown",
   "metadata": {},
   "source": [
    "6. Is machine learning capable of solving all problems? Give a detailed explanation of your answer.\n",
    "\n",
    "ANS-The short answer is no. But, like any algorithm, Machine Learning is a tool. It is a tool that can be used to help make decisions, classifications, and predictions in various domains, but obviously it is not omnipotent to all problems."
   ]
  },
  {
   "attachments": {},
   "cell_type": "markdown",
   "metadata": {},
   "source": [
    "7. What are the various methods and technologies for solving machine learning problems? Any two\n",
    "of them should be defined in detail.\n",
    "\n",
    "ANS-There are many methods and technologies for solving machine learning problems. Some of them are:\n",
    "\n",
    "Logistic Regression: It is a statistical method that is used for analyzing a dataset in which there are one or more independent variables that determine an outcome. It is used to predict a binary outcome (1 / 0, Yes / No, True / False) given a set of independent variables.\n",
    "\n",
    "Decision Trees: It is a type of supervised learning algorithm that is mostly used for classification problems. It works for both categorical and continuous input and output variables.\n",
    "\n",
    "These are just two examples of the many methods and technologies available for solving machine learning problems."
   ]
  },
  {
   "attachments": {},
   "cell_type": "markdown",
   "metadata": {},
   "source": [
    "8. Can you explain the various forms of supervised learning? Explain each one with an example\n",
    "application.\n",
    "\n",
    "ANS-Supervised learning is a type of machine learning where the algorithm learns from labeled data. The algorithm is trained on a labeled dataset that includes input data and the corresponding output data. The goal of supervised learning is to learn a mapping function that can predict the output variable (Y) based on the input variable (X). There are two types of supervised learning: regression and classification\n",
    "\n",
    "Regression is used when the output variable is a continuous value. The goal of regression is to predict the value of the target variable based on the input variables. Linear regression, polynomial regression, and decision trees are some examples of regression algorithms.\n",
    "\n",
    "Classification is used when the output variable is a categorical value. The goal of classification is to predict the class label of the input data. Some examples of classification algorithms include logistic regression, decision trees, and support vector machines\n",
    "\n",
    "Here are some examples of how supervised learning is used in various fields:\n",
    "\n",
    "Email Filtering: Supervised learning is commonly used in email filtering to classify incoming emails as spam or legitimate2.\n",
    "Credit Scoring: In credit scoring, supervised learning is used to predict the creditworthiness of loan applicants2.\n",
    "Voice Recognition: Supervised learning is utilized in voice recognition to help virtual assistants and other applications recognize and understand spoken commands"
   ]
  },
  {
   "attachments": {},
   "cell_type": "markdown",
   "metadata": {},
   "source": [
    "9. What is the difference between supervised and unsupervised learning? With a sample application\n",
    "in each region, explain the differences."
   ]
  },
  {
   "cell_type": "code",
   "execution_count": null,
   "metadata": {
    "vscode": {
     "languageId": "bat"
    }
   },
   "outputs": [],
   "source": [
    "\t                             SUPERVISED LEARNING\t                             UNSUPERVISED LEARNING\n",
    "Input Data:         \t      Uses Known and Labeled Data as input\t               Uses Unknown Data as input\n",
    "Computational Complexity:\t   Less Computational Complexity                     \tMore Computational Complex\n",
    "Real Time:\t                   Uses off-line analysis\t                               Uses Real Time Analysis of Data\n",
    "Number of Classes:\t          Number of Classes are known                            Number of Classes are not known\n",
    "Accuracy of Results\t         Accurate and Reliable Results:\t                              Moderate Accurate and Reliable Results\n",
    "Output data :\t            Desired output is given.\t                                     Desired output is not given.\n",
    "\n",
    "Training data:\tIn supervised learning training data is used to infer model \t In unsupervised learning training data is not used.\n",
    "Another name: \tSupervised learning is also called classification.              \tUnsupervised learning is also called clustering.\n",
    "Test of model: \tWe can test our model.\t                                          We can not test our model.\n",
    "Example: \t Optical Character Recognition\t                                     Find a face in an imag"
   ]
  },
  {
   "attachments": {},
   "cell_type": "markdown",
   "metadata": {},
   "source": [
    "10. Describe the machine learning process in depth.\n",
    "\n",
    "ANS-Step 1: Data Acquisition\n",
    "The first step in the machine learning process is to get the data. This will depend on the type of data you are gathering and the source of data. This can be either static data from an existing database or real-time data from an IoT system or data from other repositories.\n",
    "\n",
    "Step 2: Data Cleaning\n",
    "All real-world data is often unorganized, redundant, or has missing elements. In order to feed data into the machine learning model, we need to first clean, prepare and manipulate the data. This is the most crucial step in the machine learning workflow and takes up the most time as well. Having clean data means that you can get a more accurate model down the road.\n",
    "\n",
    "Step 2: Data Cleaning\n",
    "All real-world data is often unorganized, redundant, or has missing elements. In order to feed data into the machine learning model, we need to first clean, prepare and manipulate the data. This is the most crucial step in the machine learning workflow and takes up the most time as well. Having clean data means that you can get a more accurate model down the road.\n",
    "\n",
    "Step 4: Model Testing\n",
    "After the model is trained, we need to test and validate it for further processing. By using the testing dataset obtained from Step 3, we can check the accuracy of the model. If the results are not satisfactory, the model should be further improved. The model is trained and improved over and over again until the results are satisfactory. \n",
    "\n",
    "Step 5: Deployment\n",
    "Once the model is trained, deploy and pipeline it to production for application consumption.\n",
    "\n",
    "The machine learning process that we have outlined here is a fairly standard process. As you go through this process on your own with your own problems, you will start to discover a few more machine learning steps that might work for you. For example, as you clean your data, you may find better questions to ask or feed the model. As you tune your model, you may realize you need more data, and so on. The important part is to keep iterating until you find a model that fits your project the most.\n",
    "\n"
   ]
  },
  {
   "attachments": {},
   "cell_type": "markdown",
   "metadata": {},
   "source": [
    "ii. Deep learning applications in healthcare\n",
    "\n",
    "Deep learning has many applications in healthcare, including medical imaging, disease detection and prediction, and predictive analytics123. Deep learning can also be used for drug discovery14. Commonly used deep learning techniques in healthcare include computer vision, natural language processing, and reinforcement learning\n",
    "Image recognition and object detection are used in Magnetic Resonance (MR) and Computed tomography (CT) processes for image segmentation, disease detection & prediction. Deep learning models can make effective interpretations by a combination of aspects of imaging data, for example, tissue size, volume, and shape. These models can flag important areas in images. For example, deep learning algorithms are used for diabetic retinopathy detection, early detection of Alzheimer and ultrasound detection of breast nodules. Thanks to new advances in deep learning, most pathology and radiology images can be investigated in the future.\n",
    "\n",
    "Deep learning algorithms simplify complex data analysis, so abnormalities are determined and prioritized more precisely. The insights that convolutional neural networks (CNNs) provide, help medical professionals to notice the health issues of their patients on time and more accurately. For example, CNNs identified melanoma disease in dermatology images with more than 10% accuracy than experts according to a study in 2018.\n",
    "\n",
    "You can also read our article on Computer vision in the healthcare sector and companies in AI-powered medical imaging.\n",
    "\n"
   ]
  },
  {
   "attachments": {},
   "cell_type": "markdown",
   "metadata": {},
   "source": [
    "iii. Study of the market basket\n",
    "\n",
    "Retailers utilize market basket analysis, a data mining approach, to boost sales by better understanding client buying habits. Identifying product groups and items that are most likely to be bought together, includes evaluating big data sets, such as purchase history.\n",
    "Finding items that buyers desire to buy is the major goal of market basket analysis. Market basket analysis may help sales and marketing teams develop more effective product placement, pricing, cross-sell, and up-sell tactics.  \n",
    "\n",
    "Types Of Market Basket Analysis\n",
    "● Predictive Market Basket Analysis\n",
    "This kind employs supervised learning methods like regression and classification. In essence, it seeks to imitate the market to examine what factors influence events. In essence, it determines cross-selling by taking into account things bought in a particular order.\n",
    "\n",
    "● Differential Market Basket Analysis\n",
    "For competition analysis, this kind of analysis is useful. To identify intriguing patterns in consumer behavior, it compares purchase histories across brands, periods, seasons, days of the week, etc."
   ]
  },
  {
   "attachments": {},
   "cell_type": "markdown",
   "metadata": {},
   "source": [
    "Make a comparison between:-\n",
    "\n",
    "1. Generalization and abstraction\n",
    "\n",
    "Abstraction➦\n",
    "Abstraction in its main sense is a conceptual process where general rules and concepts are derived from the usage and classification of specific examples, literal (\"real\" or \"concrete\") signifiers, first principles, or other methods. \"An abstraction\" is the outcome of this process—a concept that acts as a common noun for all subordinate concepts, and connects any related concepts as a group, field, or category.Conceptual abstractions may be formed by filtering the information content of a concept or an observable phenomenon, selecting only the aspects which are relevant for a particular subjectively valued purpose.\n",
    "\n",
    "Generalization➦\n",
    "A generalization is a form of abstraction whereby common properties of specific instances are formulated as general concepts or claims. Generalizations posit the existence of a domain or set of elements, as well as one or more common characteristics shared by those elements (thus creating a conceptual model)."
   ]
  },
  {
   "attachments": {},
   "cell_type": "markdown",
   "metadata": {},
   "source": [
    "2. Learning that is guided and unsupervised\n",
    "\n",
    "Guided learning is a type of learning where the learner is provided with guidance and feedback throughout the learning process. It is also known as supervised learning. In this type of learning, the learner is provided with labeled data and the algorithm learns from it. The goal of guided learning is to predict outcomes for new data12.\n",
    "\n",
    "Unsupervised learning is a type of learning where the learner is not provided with any guidance or feedback throughout the learning process. In this type of learning, the algorithm learns from unsorted information according to similarities, patterns, and differences without any prior training of data"
   ]
  },
  {
   "attachments": {},
   "cell_type": "markdown",
   "metadata": {},
   "source": [
    "3.Regression and classification \n",
    "\n",
    "Regression and classification are two types of supervised machine learning algorithms. The most significant difference between regression and classification is that while regression helps predict a continuous quantity, classification predicts discrete class labels. In other words, regression algorithms seek to predict a continuous quantity and classification algorithms seek to predict a class label"
   ]
  },
  {
   "attachments": {},
   "cell_type": "markdown",
   "metadata": {},
   "source": []
  }
 ],
 "metadata": {
  "language_info": {
   "name": "python"
  },
  "orig_nbformat": 4
 },
 "nbformat": 4,
 "nbformat_minor": 2
}
