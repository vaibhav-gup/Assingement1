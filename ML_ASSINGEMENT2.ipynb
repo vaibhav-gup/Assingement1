{
 "cells": [
  {
   "attachments": {},
   "cell_type": "markdown",
   "metadata": {},
   "source": [
    "Q1.What is the concept of human learning? Please give two examples.\n",
    "\n",
    "ANS-Learning is the process of acquiring new understanding, knowledge, behaviors, skills, values, attitudes, and preferences. Human learning starts at birth (it might even start before) and continues until death as a consequence of ongoing interactions between people and their environment.\n",
    "\n",
    "Motor Learning: Our day to day activities like walking, running, driving, etc, must be learnt for ensuring a good life. These activities to a great extent involve muscular coordination.\n",
    "\n",
    "\n",
    "Verbal Learning: It is related with the language which we use to communicate and various other forms of verbal communication such as symbols, words, languages, sounds, figures and signs."
   ]
  },
  {
   "attachments": {},
   "cell_type": "markdown",
   "metadata": {},
   "source": [
    "2. What different forms of human learning are there? Are there any machine learning equivalents?\n",
    "\n",
    "ANS-Motor Learning: Our day to day activities like walking, running, driving, etc, must be learnt for ensuring a good life. These activities to a great extent involve muscular coordination.\n",
    "\n",
    "\n",
    "Verbal Learning: It is related with the language which we use to communicate and various other forms of verbal communication such as symbols, words, languages, sounds, figures and signs.\n",
    "\n",
    "Reinforcement learning is the closest machine learning type to how humans learn. The algorithm or agent used learns by interacting with its environment and getting a positive or negative reward. Common algorithms include temporal difference, deep adversarial networks, and Q-learning."
   ]
  },
  {
   "attachments": {},
   "cell_type": "markdown",
   "metadata": {},
   "source": [
    "3. What is machine learning, and how does it work? What are the key responsibilities of machine\n",
    "learning?\n",
    "\n",
    "ANS-Machine Learning, as the name says, is all about machines learning automatically without being explicitly programmed or learning without any direct human intervention.\n",
    "\n",
    "As for the formal definition of Machine Learning, we can say that a Machine Learning algorithm learns from experience E with respect to some type of task T and performance measure P, if its performance at tasks in T, as measured by P, improves with experience E\n",
    "\n",
    "To research, modify, and apply data science and data analytics prototypes.\n",
    "To create and construct methods and plans for machine learning.\n",
    "Employing test findings to do statistical analysis and improve models.\n",
    "To search internet for training datasets that are readily available.\n",
    "ML systems and models should be trained and retrained as necessary."
   ]
  },
  {
   "attachments": {},
   "cell_type": "markdown",
   "metadata": {},
   "source": [
    "4. Define the terms \"penalty\" and & \"reward\" in the context of reinforcement learning.\n",
    "\n",
    "ANS-In reinforcement learning, the learner is a decision-making agent that takes actions in an environment and receives reward (or penalty) for its actions in trying to solve a problem. After a set of trial-and-error runs, it should learn the best policy, which is the sequence of actions that maximize the total reward1. The reward function is used to define a goal in a reinforcement learning problem. It provides a numerical score based on the state of the environment2. The value of a state is the total amount of reward an agent can expect to accumulate over the future, starting from that state2. The agent is rewarded for correct moves and punished for the wrong ones. In doing so, the agent tries to minimize wrong moves and maximize the right ones3.\n"
   ]
  },
  {
   "attachments": {},
   "cell_type": "markdown",
   "metadata": {},
   "source": [
    "5. Explain the term' learning as a search\"?\n",
    "\n",
    "ANS-Concept Learning as Search: Concept learning can be viewed as the task of searching through a large space of hypothesis implicitly defined by the hypothesis representation. The goal of the concept learning search is to find the hypothesis that best fits the training examples."
   ]
  },
  {
   "attachments": {},
   "cell_type": "markdown",
   "metadata": {},
   "source": [
    "6. What are the various goals of machine learning? What is the relationship between these and\n",
    "human learning?\n",
    "\n",
    "ANS-Goals of Machine Learning:\n",
    "The goal of ML, in simpler words is to understand the nature of (human & other forms of) learning, and to build learning capability in computers. To be more specific there are three aspects of goals of ML.\n",
    "To make the computers smarter , more intelligent.\n",
    "To develop computational models of human learning process and perform computer simulations.\n",
    "To explore new learning methods and develop general learning algorithms independent of applications.\n",
    "\n",
    "The relationship between these both are they both learn from the experience\n",
    "\n"
   ]
  },
  {
   "attachments": {},
   "cell_type": "markdown",
   "metadata": {},
   "source": [
    "7. Illustrate the various elements of machine learning using a real-life illustration.\n",
    "\n",
    "ANS-Machine learning has three main elements1. They are:\n",
    "\n",
    "Representation: what the model looks like; how knowledge is represented.\n",
    "Evaluation: how good models are differentiated; how programs are evaluated.\n",
    "Optimization: the process for finding good models; how programs are generated.\n",
    "Here are some real-life examples of how machine learning is being used234:\n",
    "\n",
    "Image recognition: It can identify an object as a digital image, based on the features it possesses.\n",
    "Product recommendations: It is featured on most e-commerce websites.\n",
    "Facial recognition: It is one of the more obvious applications of machine learning.\n",
    "Google Assistance: It adopts the machine learning principle.\n",
    "I hope this helps!\n",
    "\n",
    "\n"
   ]
  },
  {
   "attachments": {},
   "cell_type": "markdown",
   "metadata": {},
   "source": [
    "8. Provide an example of the abstraction method.\n",
    "\n",
    "ANS-Abstraction is a technique used in machine learning to simplify complex data by representing it in a simplified form. It is used to reduce the complexity of data and make it easier to understand. One example of abstraction in machine learning is the use of decision trees. Decision trees are used to represent complex data in a simplified form by breaking down the data into smaller parts and then representing each part as a node on the tree. Each node represents a decision that needs to be made based on the data. The tree is then used to make predictions about new data based on the decisions made at each node1."
   ]
  },
  {
   "attachments": {},
   "cell_type": "markdown",
   "metadata": {},
   "source": [
    "9. What is the concept of generalization? What function does it play in the machine learning\n",
    "process?\n",
    "\n",
    "ANS-The term ‘generalization’ refers to a model’s ability to adapt and react appropriately to previously unseen, fresh data chosen from the same distribution as the model’s initial input. In other words, generalization assesses a model’s ability to process new data and generate accurate predictions after being trained on a training set."
   ]
  },
  {
   "attachments": {},
   "cell_type": "markdown",
   "metadata": {},
   "source": [
    "\n",
    "\n",
    "ANS-Classification is the process of finding or discovering a model or function which helps in separating the data into multiple categorical classes i.e. discrete values. In classification, data is categorized under different labels according to some parameters given in the input and then the labels are predicted for the data. \n",
    "\n",
    "Comparison between Classification and Regression\n",
    "\n",
    "Classification:\n",
    "\n",
    "In this problem statement, the target variables are discrete.\n",
    "\n",
    "Problems like Spam Email Classification, Disease prediction like problems are solved using Classification Algorithms.\n",
    "\n",
    "Output is Categorical labels.\n",
    "\n",
    "Regressor:\n",
    "\n",
    "In this problem statement, the target variables are continuous.\n",
    "\n",
    "Problems like House Price Prediction, Rainfall Prediction like problems are solved using regression Algorithms.\n",
    "\n",
    "Problems like House Price Prediction, Rainfall Prediction like problems are solved using regression Algorithms.\n",
    "\n",
    "Output is Continuous numerical values."
   ]
  },
  {
   "attachments": {},
   "cell_type": "markdown",
   "metadata": {},
   "source": [
    "11. What is regression, and how does it work? Give an example of a real-world problem that was\n",
    "solved using regression.\n",
    "\n",
    "ANS-Regression is the process of finding a model or function for distinguishing the data into continuous real values instead of using classes or discrete values. It can also identify the distribution movement depending on the historical data. Because a regression predictive model predicts a quantity, therefore, the skill of the model must be reported as an error in those predictions.\n",
    "\n",
    "One example is predicting salaries based on years of experience. The dataset can be found on Kaggle1. Another example is measuring the effect of fertilizer and water on crop yields"
   ]
  },
  {
   "attachments": {},
   "cell_type": "markdown",
   "metadata": {},
   "source": [
    "12. Describe the clustering mechanism in detail.\n",
    "\n",
    "ANS-Clustering is the task of dividing the population or data points into a number of groups such that data points in the same groups are more similar to other data points in the same group and dissimilar to the data points in other groups. It is basically a collection of objects on the basis of similarity and dissimilarity between them.\n",
    "\n",
    "For example The data points in the graph below clustered together can be classified into one single group. We can distinguish the clusters, and we can identify that there are 3 clusters"
   ]
  },
  {
   "attachments": {},
   "cell_type": "markdown",
   "metadata": {},
   "source": [
    "13\n",
    "iii. Studying without supervision\n",
    "\n",
    "Unsupervised learning, also known as unsupervised machine learning, uses machine learning algorithms to analyze and cluster unlabeled datasets. These algorithms discover hidden patterns or data groupings without the need for human intervention. Its ability to discover similarities and differences in information make it the ideal solution for exploratory data analysis, cross-selling strategies, customer segmentation, and image recognition.\n",
    "Unsupervised learning, also known as unsupervised machine learning, uses machine learning algorithms to analyze and cluster unlabeled datasets. These algorithms discover hidden patterns or data groupings without the need for human intervention. Its ability to discover similarities and differences in information make it the ideal solution for exploratory data analysis, cross-selling strategies, customer segmentation, and image recognition.\n",
    "\n",
    "\n",
    "iv. Reinforcement learning is a form of learning based on positive reinforcement.\n",
    "\n",
    "Reinforcement learning is a machine learning training method based on rewarding desired behaviors and/or punishing undesired ones. In general, a reinforcement learning agent is able to perceive and interpret its environment, take actions and learn through trial and error.In reinforcement learning, developers devise a method of rewarding desired behaviors and punishing negative behaviors. This method assigns positive values to the desired actions to encourage the agent and negative values to undesired behaviors. This programs the agent to seek long-term and maximum overall reward to achieve an optimal solution.\n",
    "\n",
    "These long-term goals help prevent the agent from stalling on lesser goals. With time, the agent learns to avoid the negative and seek the positive. This learning method has been adopted in artificial intelligence (AI) as a way of directing unsupervised machine learning through rewards and penalties."
   ]
  },
  {
   "attachments": {},
   "cell_type": "markdown",
   "metadata": {},
   "source": []
  }
 ],
 "metadata": {
  "language_info": {
   "name": "python"
  },
  "orig_nbformat": 4
 },
 "nbformat": 4,
 "nbformat_minor": 2
}
