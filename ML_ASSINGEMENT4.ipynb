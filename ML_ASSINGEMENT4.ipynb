{
 "cells": [
  {
   "attachments": {},
   "cell_type": "markdown",
   "metadata": {},
   "source": [
    "1. What are the key tasks involved in getting ready to work with machine learning modeling?\n",
    "\n",
    "ANS-Step 1: Data Acquisition\n",
    "The first step in the machine learning process is to get the data. This will depend on the type of data you are gathering and the source of data. This can be either static data from an existing database or real-time data from an IoT system or data from other repositories.\n",
    "\n",
    "Step 2: Data Cleaning\n",
    "All real-world data is often unorganized, redundant, or has missing elements. In order to feed data into the machine learning model, we need to first clean, prepare and manipulate the data. This is the most crucial step in the machine learning workflow and takes up the most time as well. Having clean data means that you can get a more accurate model down the road.\n",
    "\n",
    "Step 2: Data Cleaning\n",
    "All real-world data is often unorganized, redundant, or has missing elements. In order to feed data into the machine learning model, we need to first clean, prepare and manipulate the data. This is the most crucial step in the machine learning workflow and takes up the most time as well. Having clean data means that you can get a more accurate model down the road.\n",
    "\n",
    "Step 4: Model Testing\n",
    "After the model is trained, we need to test and validate it for further processing. By using the testing dataset obtained from Step 3, we can check the accuracy of the model. If the results are not satisfactory, the model should be further improved. The model is trained and improved over and over again until the results are satisfactory. \n",
    "\n",
    "Step 5: Deployment\n",
    "Once the model is trained, deploy and pipeline it to production for application consumption.\n",
    "\n",
    "The machine learning process that we have outlined here is a fairly standard process. As you go through this process on your own with your own problems, you will start to discover a few more machine learning steps that might work for you. For example, as you clean your data, you may find better questions to ask or feed the model. As you tune your model, you may realize you need more data, and so on. The important part is to keep iterating until you find a model that fits your project the most."
   ]
  },
  {
   "attachments": {},
   "cell_type": "markdown",
   "metadata": {},
   "source": [
    "2. What are the different forms of data used in machine learning? Give a specific example for each of\n",
    "them.\n",
    "\n",
    "ANS-The data used in machine learning is typically numerical or categorical. Numerical data includes values that can be ordered and measured, such as age or income. Categorical data includes values that represent categories, such as gender or type of fruit. Data can be divided into training and testing sets."
   ]
  },
  {
   "attachments": {},
   "cell_type": "raw",
   "metadata": {},
   "source": [
    "3. Distinguish:\n",
    "\n",
    "1. Numeric vs. categorical attributes\n",
    "\n",
    "\tCategorical data:\n",
    "\n",
    "Categorical data can be stored and identified by names or labels\n",
    "Because it qualifies data before categorizing it, it is sometimes referred to as qualitative data\n",
    "\n",
    "Define gender.\n",
    "Male\n",
    "Female\n",
    "Other\n",
    "\n",
    "Nominal data and Ordinal data.\n",
    "\n",
    "There is no scale of orders.\n",
    "Natural language description\n",
    "\n",
    "Can take numerical numbers but has qualitative characteristics\n",
    "Can be represented graphically using pie charts and bar charts.\n",
    "\n",
    "Numerical data:\n",
    "\n",
    "Numerical data are numbers, not words or descriptions.\n",
    "Quantitative data represents numerical values for arithmetic processes.\n",
    "\n",
    "Below 5\n",
    "5-10\n",
    "10-15\n",
    "15-20\n",
    "20\n",
    "\n",
    "Discrete data and Continuous data.\n",
    "Possesses a logical scale\n",
    "Using a description that is not in natural language\n",
    "\n",
    "Using a description that is not in natural language\n",
    "Takes numbers and numbers as inputs.\n",
    "Bar charts and pie charts can be used to visualize this\n",
    "\n"
   ]
  },
  {
   "attachments": {},
   "cell_type": "markdown",
   "metadata": {},
   "source": [
    "Feature selection vs. dimensionality reduction\n",
    "\n",
    "Feature selection and dimensionality reduction are both used to reduce the number of features in a dataset. Feature selection selects and excludes given features without changing them, while dimensionality reduction transforms features into a lower dimension12. Feature selection identifies the features that best represent the relationship amongst all in the feature space as well as the target that the model will try to predict23. Feature selection yields a subset of features from the original set of features, which are the best representatives of the data, while dimensionality reduction is generic and only depends on the data and not on what you plan to do with it3."
   ]
  },
  {
   "attachments": {},
   "cell_type": "markdown",
   "metadata": {},
   "source": [
    "1. The histogram\n",
    "\n",
    "A histogram is a graphical representation of a grouped frequency distribution with continuous classes. It is an area diagram and can be defined as a set of rectangles with bases along with the intervals between class boundaries and with areas proportional to frequencies in the corresponding classes.\n",
    "\n",
    "A histogram is the graphical representation of data where data is grouped into continuous number ranges and each range corresponds to a vertical bar.\n",
    "\n",
    "The horizontal axis displays the number range.\n",
    "The vertical axis (frequency) represents the amount of data that is present in each range.\n",
    "The number ranges depend upon the data that is being used.\n",
    "\n",
    "A histogram graph is a bar graph representation of data. It is a representation of a range of outcomes into columns formation along the x-axis. in the same histogram, the number count or multiple occurrences in the data for each column is represented by the y-axis. It is the easiest manner that can be used to visualize data distributions\n",
    "\n"
   ]
  },
  {
   "attachments": {},
   "cell_type": "markdown",
   "metadata": {},
   "source": [
    "Use a scatter plot\n",
    "\n",
    "A scatterplot shows the relationship between two numerical variables plotted simultaneously along both the horizontal and vertical axis. They are common in scientific fields and often used to understand data rather than to communicate with it. This is not to say you should never communicate with one, but you should take explicit steps to make sure your chart is clear to an unfamiliar audience (something you should do with all charts!). Let’s look at a scenario where a scatterplot works nicely to communicate a finding. \n",
    "\n",
    "Imagine you’re an analyst in the beauty industry and your company wants to formulate a new lip care product. Before embarking on this endeavor, you are asked to do some research to see if there is a hole in the market. You uncover that lip care products are polarizing between male and female buyers, so there is an opportunity to create a new product that bridges the gap.4. Make quick notes onUse a scatter plot\n",
    "\n",
    "It’s exploratory in nature. A scatterplot was likely used to uncover this finding. Many statistical software packages output scatterplots to test the correlation between two variables. \n",
    "\n",
    "Be mindful of the variable placement on the axes. In this example, it doesn’t matter which variable is along the horizontal or vertical axis, but that won’t always be the case. \n",
    "\n",
    "Scatterplots show dots, not lines. Scatterplots are very similar to line charts in that they both display two numerical values; however, scatterplots tend to focus on individual data points (depicted with a dot) rather than aggregating multiple points into one distinct line.\n"
   ]
  },
  {
   "attachments": {},
   "cell_type": "markdown",
   "metadata": {},
   "source": [
    "5. Why is it necessary to investigate data? Is there a discrepancy in how qualitative and quantitative\n",
    "data are explored?\n",
    "\n",
    "ANS-Exploration allows for deeper understanding of a dataset, making it easier to navigate and use the data later. The better an analyst knows the data they’re working with, the better their analysis will be.\n",
    "\n",
    "Quantitative research\n",
    "Quantitative research is expressed in numbers and graphs. It is used to test or confirm theories and assumptions. This type of research can be used to establish generalizable facts about a topic.\n",
    "Common quantitative methods include experiments, observations recorded as numbers, and surveys with closed-ended questions.\n",
    "\n",
    "Quantitative research is at risk for research biases including information bias, omitted variable bias, sampling bias, or selection bias.\n",
    "\n",
    "Qualitative research\n",
    "Qualitative research is expressed in words. It is used to understand concepts, thoughts or experiences. This type of research enables you to gather in-depth insights on topics that are not well understood.\n",
    "Common qualitative methods include interviews with open-ended questions, observations described in words, and literature reviews that explore concepts and theories.\n",
    "\n",
    "Qualitative research is also at risk for certain research biases including the Hawthorne effect, observer bias, recall bias, and social desirability bias."
   ]
  },
  {
   "attachments": {},
   "cell_type": "markdown",
   "metadata": {},
   "source": [
    "6. What are the various histogram shapes? What exactly are ‘bins?\n",
    "\n",
    "ANS-The different types of a histogram are:\n",
    "\n",
    "Uniform histogram\n",
    "\n",
    "Symmetric histogram\n",
    "\n",
    "Bimodal histogram\n",
    "\n",
    "Probability histogram\n",
    "\n",
    "The \"bin\" in a histogram is the choice of unit and spacing on the X-axis.\n",
    "\n",
    "All the data in a probability distribution represented visually by a histogram is filled into the corresponding bins. The height of each bin is a measurement of the frequency with which data appears inside the range of that bin in the distribution.\n",
    "\n",
    "By way of example, in this sample histogram below, each bar ascending upwards from the X-axis is a single bin."
   ]
  },
  {
   "attachments": {},
   "cell_type": "markdown",
   "metadata": {},
   "source": [
    "7. How do we deal with data outliers?\n",
    "\n",
    "ANS-Calculating Minkowski Error can reduce the impact of outliers on the model.\n",
    "\n",
    "Removing those records from the data set completely to reduce the skewness caused during analysis.\n",
    "\n",
    "Assigning new values to such records can result in favourable outcomes.\n",
    "\n",
    "Transforming values can eliminate outliers. \n",
    "\n",
    "Scaling, log transformation, cube root normalization and other techniques eliminate outliers.\n",
    "\n",
    "Imputing outliers and treating them separately."
   ]
  },
  {
   "attachments": {},
   "cell_type": "markdown",
   "metadata": {},
   "source": [
    "8. What are the various central inclination measures? Why does mean vary too much from median in\n",
    "certain data sets?\n",
    "\n",
    "ANS-The 3 most common measures of central tendency are the mode, median, and mean. Mode: the most frequent value. Median: the middle number in an ordered data set. Mean: the sum of all values divided by the total number of values.\n",
    "\n",
    "The mean weight is influenced (in this case, pulled down) by a handful of much smaller cookies, so it is farther away from most data points. In general, when a distribution is symmetrical or approximately symmetrical, the mean and median values are close. But when a distribution is not roughly symmetrical, the two values tend to be farther apart"
   ]
  },
  {
   "attachments": {},
   "cell_type": "markdown",
   "metadata": {},
   "source": [
    "9. Describe how a scatter plot can be used to investigate bivariate relationships. Is it possible to find\n",
    "outliers using a scatter plot?\n",
    "\n",
    "ANS-Scatter plots’ primary uses are to observe and show relationships between two numeric variables. The dots in a scatter plot not only report the values of individual data points, but also patterns when the data are taken as a whole. Identification of correlational relationships are common with scatter plots.\n",
    "\n",
    "To identify outliers in a scatter plot, you can visually inspect the graph for data points that are very far from the main cluster or trend. Additionally, statistical tests such as the z-score or interquartile range (IQR) can measure how many standard deviations or quartiles a data point is away from the mean or median."
   ]
  },
  {
   "attachments": {},
   "cell_type": "markdown",
   "metadata": {},
   "source": [
    "10. Describe how cross-tabs can be used to figure out how two variables are related.\n",
    "\n",
    "ANS-To describe the relationship between two categorical variables, we use a special type of table called a cross-tabulation (or \"crosstab\" for short). In a cross-tabulation, the categories of one variable determine the rows of the table, and the categories of the other variable determine the columns."
   ]
  },
  {
   "attachments": {},
   "cell_type": "markdown",
   "metadata": {},
   "source": []
  }
 ],
 "metadata": {
  "language_info": {
   "name": "python"
  },
  "orig_nbformat": 4
 },
 "nbformat": 4,
 "nbformat_minor": 2
}
