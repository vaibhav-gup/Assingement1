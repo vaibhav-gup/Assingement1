{
 "cells": [
  {
   "attachments": {},
   "cell_type": "markdown",
   "metadata": {},
   "source": [
    "1. Compare and contrast the float and Decimal classes benefits and drawbacks.\n",
    "\n",
    "ANS-Both the float and decimal types store numerical values in Python\n",
    "\n",
    "Floats\n",
    "Use floats when convenience and speed matter. A float gives you an approximation of the number you declare.For example, if I print 0.1 with 18 decimals places, I don’t actually get 0.1 but instead an approximation.\n",
    "\n",
    ">>> print(f\"{0.1:.18f}\")\n",
    "0.100000000000000006\n",
    "\n",
    "Decimals\n",
    "Use decimals when precision matters, such as with financial calculations. Decimals can suffer from their own precision issues, but generally, decimals are more precise than floats.\n",
    "\n",
    "The performance difference between float and decimal, with Python 3, is not outlandish, and in my experience, the precision benefits of a decimal outweigh the performance benefits of a float."
   ]
  },
  {
   "attachments": {},
   "cell_type": "markdown",
   "metadata": {},
   "source": [
    "2. Decimal('1.200') and Decimal('1.2') are two objects to consider. In what sense are these the same object? Are these just two ways of representing the exact same value, or do they correspond to different internal states ?\n",
    "\n",
    "\n",
    "Ans: Both values are same but internal representation at storage Is different. Precsion differs, Decimal('1.200') gives internally 1.200 and Decimal('1.2') gives 1.2."
   ]
  },
  {
   "attachments": {},
   "cell_type": "markdown",
   "metadata": {},
   "source": [
    "3. What happens if the equality of Decimal('1.200') and Decimal('1.2') is checked ?\n",
    "\n",
    "\n",
    "Ans: Both values are checked to be equal , they only differ in precision.\n"
   ]
  },
  {
   "attachments": {},
   "cell_type": "markdown",
   "metadata": {},
   "source": [
    "4. Why is it preferable to start a Decimal object with a string rather than a floating-point value?\n",
    "\n",
    "ANS-When you construct a Decimal from a floating-point number, you get the exact value of the floating-point number, which may not precisely match the decimal value because that's how floating-point numbers work. If you want to do precise decimal arithmetic, construct your Decimal objects from strings instead of floating-point numbers:"
   ]
  },
  {
   "attachments": {},
   "cell_type": "markdown",
   "metadata": {},
   "source": [
    "\n",
    "5. In an arithmetic phrase, how simple is it to combine Decimal objects with integers ?\n",
    "\n",
    "Ans: We can do it with use of Decimal().\n"
   ]
  },
  {
   "attachments": {},
   "cell_type": "markdown",
   "metadata": {},
   "source": [
    "6. Can Decimal objects and floating-point values be combined easily? \n",
    "\n",
    "ANS-You cannot mix the decimal type with the float and double types in an expression. In this case, if you want to perform arithmetic, comparison, or equality operations, you must explicitly convert the operands either from or to the decimal type, "
   ]
  },
  {
   "attachments": {},
   "cell_type": "markdown",
   "metadata": {},
   "source": [
    "7. Using the Fraction class but not the Decimal class, give an example of a quantity that can be expressed with absolute precision ?\n",
    "\n",
    "Ans: Value of 0.5 will be represented as ½."
   ]
  },
  {
   "attachments": {},
   "cell_type": "markdown",
   "metadata": {},
   "source": [
    "Q9.Consider the following two fraction objects: Fraction(1, 2) and Fraction(1, 2). (5, 10). Is the internal\n",
    "state of these two objects the same? Why do you think that is?\n",
    "\n",
    "ANS-Ans: Both will be reduced to 1/2\n"
   ]
  },
  {
   "attachments": {},
   "cell_type": "markdown",
   "metadata": {},
   "source": [
    "Q10. How do the Fraction class and the integer type (int) relate to each other? Containment or\n",
    "inheritance?\n",
    "\n",
    "ANS-In Python, the Fraction class is not inherited from the integer type (int), but rather it contains integer values that represent the numerator and denominator of the fraction. The Fraction class provides methods to perform.\n"
   ]
  },
  {
   "attachments": {},
   "cell_type": "markdown",
   "metadata": {},
   "source": []
  },
  {
   "attachments": {},
   "cell_type": "markdown",
   "metadata": {},
   "source": []
  },
  {
   "attachments": {},
   "cell_type": "markdown",
   "metadata": {},
   "source": []
  },
  {
   "attachments": {},
   "cell_type": "markdown",
   "metadata": {},
   "source": []
  }
 ],
 "metadata": {
  "kernelspec": {
   "display_name": "Python 3",
   "language": "python",
   "name": "python3"
  },
  "language_info": {
   "name": "python",
   "version": "3.11.2"
  },
  "orig_nbformat": 4
 },
 "nbformat": 4,
 "nbformat_minor": 2
}
