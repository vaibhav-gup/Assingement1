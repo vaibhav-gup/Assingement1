{
 "cells": [
  {
   "attachments": {},
   "cell_type": "markdown",
   "metadata": {},
   "source": [
    "Q1. What is the distinction between a numpy array and a pandas data frame? Is there a way to convert between the two if there is?\n",
    "\n",
    "ANS-PANDAS:\n",
    "\n",
    "When we have to work on Tabular data, we prefer the pandas module.\n",
    "\n",
    "The powerful tools of pandas are Data frame and Series.\n",
    "\n",
    "Pandas consume more memory.\n",
    "\n",
    "Pandas has a better performance when a number of rows is 500K or more.\n",
    "\n",
    "Indexing of the pandas series is very slow as compared to numpy arrays.\n",
    "\n",
    "NUMPY:\n",
    "\n",
    "When we have to work on Numerical data, we prefer the numpy module.\n",
    "\n",
    "Whereas the powerful tool of numpy is Arrays.\n",
    "\n",
    "Numpy is memory efficient.\n",
    "\n",
    "Numpy has a better performance when number of rows is 50K or less.\n",
    "\n",
    "ndexing of numpy Arrays is very fast.\n",
    "\n"
   ]
  },
  {
   "attachments": {},
   "cell_type": "markdown",
   "metadata": {},
   "source": [
    "Q2. What can go wrong when an user enters in a stock-ticker symbol, and how do you handle it?\n",
    "\n",
    "ANS-A stock ticker symbol is a short code used to identify a company that issues stocks or securities. These identification codes were designed by the exchanges and kept short to help investors and traders easily identify them.\n",
    "\n",
    "Identify a specific security: Ticker symbols are used to identify a specific security, such as a stock or bond, on a financial platform or stock exchange. ...\n",
    "Track stock prices: Ticker symbols are often used to track stock prices in real-time on financial news websites and stock ticker boards."
   ]
  },
  {
   "attachments": {},
   "cell_type": "markdown",
   "metadata": {},
   "source": [
    "Q3. Identify some of the plotting techniques that are used to produce a stock-market chart.\n",
    "\n",
    "Ans: Bar chart, Line Chart are used for plotting."
   ]
  },
  {
   "attachments": {},
   "cell_type": "markdown",
   "metadata": {},
   "source": [
    "Q4. Why is it essential to print a legend on a stock market chart?\n",
    "\n",
    "ANS-Charts are a technical trader's portal to the markets. With so many advances in analysis platforms, traders are able to view a tremendous assortment of market information. But with so much data available, it's important to create well-designed charts that will enhance, not hinder, your market analysis. The faster you can interpret market information, the faster you can react to the changing conditions."
   ]
  },
  {
   "attachments": {},
   "cell_type": "markdown",
   "metadata": {},
   "source": [
    "Q5. What is the best way to limit the length of a pandas data frame to less than a year ?\n",
    "\n",
    "Ans: : We can use start and end parameters for that. In start we write the date from where we are starting and at the end we write the end date. SO within this span we can restric the duration.Also we can use the parameters like periods for how much times we need the duration and we can also use the frequency parameter.\n",
    "\n",
    "pd.date_range(start, end, periods, freq, …)\n"
   ]
  },
  {
   "attachments": {},
   "cell_type": "markdown",
   "metadata": {},
   "source": [
    "Q6. What is the definition of a 180-day moving average ?\n",
    "\n",
    "Ans: : The 180-day moving average is represented as a line on charts and represents the average price over the past 180 days. The moving average can give traders a sense regarding whether the trend is up or down, while also identifying potential support or resistance areas."
   ]
  },
  {
   "attachments": {},
   "cell_type": "markdown",
   "metadata": {},
   "source": [
    "Q7. Did the chapter's final example use \"indirect\" importing? If so, how exactly do you do it?\n",
    "\n",
    "ANS-"
   ]
  },
  {
   "attachments": {},
   "cell_type": "markdown",
   "metadata": {},
   "source": []
  }
 ],
 "metadata": {
  "language_info": {
   "name": "python"
  },
  "orig_nbformat": 4
 },
 "nbformat": 4,
 "nbformat_minor": 2
}
