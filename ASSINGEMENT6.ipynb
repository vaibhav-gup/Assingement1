{
 "cells": [
  {
   "attachments": {},
   "cell_type": "markdown",
   "metadata": {},
   "source": [
    "Q1. Describe three applications for exception processing.\n",
    "\n",
    "ANS-Exception processing is a mechanism used in software development to handle errors that occur during the execution of a program. Here are three applications for exception processing:\n",
    "\n",
    "Error handling: Exception processing is used to handle errors that occur during the execution of a program. When an error occurs, the program throws an exception, which is then caught by the exception handler. The handler then takes appropriate action to handle the error.\n",
    "\n",
    "Debugging: Exception processing can be used to debug a program. When an exception is thrown, the program stops executing and enters debug mode. This allows developers to examine the state of the program and identify the cause of the exception.\n",
    "\n",
    "Resource management: Exception processing can be used to manage resources such as files, network connections, and database connections. When an exception occurs, resources that were acquired by the program can be released in a controlled manner."
   ]
  },
  {
   "attachments": {},
   "cell_type": "markdown",
   "metadata": {},
   "source": [
    "Q2. What happens if you don't do something extra to treat an exception?\n",
    "\n",
    "ANS-If we do not include any code to handle the possible exception, then the program execution will get interrupted"
   ]
  },
  {
   "attachments": {},
   "cell_type": "markdown",
   "metadata": {},
   "source": [
    "Q3. What are your options for recovering from an exception in your script?\n",
    "\n",
    "ANS-     A single try statement can have multiple except statements. This is useful when the try block contains statements \n",
    " that may throw different types of exceptions.can also provide a generic except clause, which handles any exception. \n",
    " After the except clause(s), you can include an else-clause. The code in the else-block executes if the code in the\n",
    " try: block does not raise an exception."
   ]
  },
  {
   "cell_type": "code",
   "execution_count": null,
   "metadata": {
    "vscode": {
     "languageId": "powershell"
    }
   },
   "outputs": [],
   "source": [
    "Q4. Describe two methods for triggering exceptions in your script.\n",
    "\n",
    "ANS- triggering exceptions in python can be done by \n",
    " 1. try except statements\n",
    " 2. raise statement :The raise statement allows the programmer to force a specified exception to occur\n",
    " \n",
    " Ex:\n",
    "    raise NameError('HiThere')\n",
    "    Traceback (most recent call last):\n",
    "    File \"<stdin>\", line 1, in <module>\n",
    "    NameError: HiThere"
   ]
  },
  {
   "attachments": {},
   "cell_type": "markdown",
   "metadata": {},
   "source": [
    "`"
   ]
  },
  {
   "attachments": {},
   "cell_type": "markdown",
   "metadata": {},
   "source": [
    "Q5. Identify two methods for specifying actions to be executed at termination time, regardless of\n",
    "whether or not an exception exists.\n",
    "\n",
    "ANS-     Finally block always executes irrespective of an exception being thrown or not. The final keyword allows\n",
    " you to create a block of code that follows a try-catch block.\n",
    "\n",
    " Finally, clause is optional. It is intended to define clean-up actions which should be that executed in all conditions.\n"
   ]
  },
  {
   "cell_type": "markdown",
   "metadata": {},
   "source": []
  }
 ],
 "metadata": {
  "language_info": {
   "name": "python"
  },
  "orig_nbformat": 4
 },
 "nbformat": 4,
 "nbformat_minor": 2
}
