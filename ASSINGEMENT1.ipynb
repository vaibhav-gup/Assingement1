{
 "cells": [
  {
   "attachments": {},
   "cell_type": "markdown",
   "metadata": {},
   "source": [
    "Q1. What is the purpose of Python's OOP?\n",
    "\n",
    "ANS-Python Object-oriented Programming (OOPs) is a programming paradigm that makes use of objects and classes. A class can be viewed as a “blueprint” for things. The primary idea behind OOPs is to tie the data and the functions that act on it as a single unit so that no other portion of the code may access it."
   ]
  },
  {
   "attachments": {},
   "cell_type": "markdown",
   "metadata": {},
   "source": [
    "Q2. Where does an inheritance search look for an attribute?\n",
    "\n",
    "ANS-An inheritance search looks for an attribute in the class hierarchy, starting at the class of the instance, and proceeding up the inheritance tree.\n",
    "OR\n",
    "On the object The inheritance search first looks for the attribute in the object itself. If it is not found, it looks in the object’s parent class, then the parent class’s parent, and so on, until the attribute is found."
   ]
  },
  {
   "attachments": {},
   "cell_type": "markdown",
   "metadata": {},
   "source": [
    "Q3. How do you distinguish between a class object and an instance object?\n",
    "\n",
    "ANS-\n",
    "Class\n",
    "\n",
    ">Class is used as a template for declaring and creating the objects.\n",
    ">When a class is created, no memory is allocated.\n",
    ">The class has to be declared first and only once.\n",
    ">A class can not be manupulated as they are not available in the memory.\n",
    ">A class is a logical entity.\n",
    ">A class is a logical entity.\n",
    ">A class is used to bind data as well as methods together as a single unit.\n",
    ">Syntax: class <classname>:\n",
    ">Example: Bike\n",
    "\n",
    "\n",
    "Object\n",
    "\n",
    ">An object is an instance of a class.\n",
    ">When a class is created, no memory is allocated.\n",
    ">An object is created many times as per requirement.\n",
    ">An object is created many times as per requirement.\n",
    ">An object is a physical entity.\n",
    ">Each object has its own values, which are associated with it.\n",
    ">Objects are like a variable of the class.\n",
    ">Syntax-\n",
    "  class MyClass:\n",
    "  x = 5\n",
    "  Create Object\n",
    "\n",
    "  Create an object named p1, and print the value of x:\n",
    "\n",
    "  p1 = MyClass()\n",
    "  print(p1.x)\n",
    "\n",
    ">Example: Ducati, Suzuki, Kawasaki\n",
    "\n",
    "Instance Object\n",
    "\n",
    ">Object is a contiguous block of memory that stores the actual information that distinguishes this object from other objects, while an     instance is a reference to an object. \n",
    ">It is a block of memory, which points to the staring address of where the object is stored.\n",
    ">Two instances may refer to the same object.> Life spans of an object and an instance are not related.\n",
    "> Therefore an instance could be null. Once all instances pointing to an object is removed, the object will be destroyed.\n",
    "\n",
    "\n"
   ]
  },
  {
   "attachments": {},
   "cell_type": "markdown",
   "metadata": {},
   "source": [
    "Q4. What makes the first argument in a class’s method function special?\n",
    "\n",
    "ANS-The first parameter in the class method is the class on which you are calling the method, not (necessarily) the class that defines the method. (Having a variable that always holds the same class would probably not be that useful.)"
   ]
  },
  {
   "attachments": {},
   "cell_type": "markdown",
   "metadata": {},
   "source": [
    "Q5. What is the purpose of the __init__ method?\n",
    "\n",
    "ANS-The __init__ () method in Python is a special method that is called automatically when an object is created from a class. It is used to initialize the object's attributes and perform any other setup that is required before the object can be used."
   ]
  },
  {
   "attachments": {},
   "cell_type": "markdown",
   "metadata": {},
   "source": [
    "Q6. What is the process for creating a class instance?\n",
    "\n",
    "ANS-An instance is a specific object created from a particular class. To create instances of a class, call the class using the class name and pass in whatever arguments its __init__ method accepts—in this example, the __init__ method takes name, age, and rating.\n",
    "\n",
    "EXAMPLE\n",
    "\n",
    "  class brilliantUser(object):\n",
    "    def __init__(self, name, age, rating):\n",
    "      self.name = name\n",
    "      self.age = age\n",
    "      self.rating = rating\n",
    "\n",
    "#We can create an object brilliant for user \n",
    "\n",
    "\n",
    "user = brilliantUser('Mursalin', 17, 4)"
   ]
  },
  {
   "attachments": {},
   "cell_type": "markdown",
   "metadata": {},
   "source": [
    "Q7. What is the process for creating a class?\n",
    "\n",
    "ANS-Creating a Class in Python\n",
    "Creating a class is as easy as creating a function in Python. In function, we start with the def keyword while class definitions begin with the keyword class.\n",
    "\n",
    "Following the keyword class, we have the class identifier(i.e. the name of the class we created) and then the : (colon) operator after the class name.\n",
    "\n",
    "In the next indented lines(statement 1..n) are the members of the class. Also, the variables inside the class are known as attributes. The attributes can be accessed later on in the program using the dot(.) operator.\n",
    "\n",
    "EXAMPLE\n",
    "\n",
    "class ClassName:\n",
    "    # Statement 1\n",
    "    # Statement 2\n",
    "    .\n",
    "    .\n",
    "    # Statement n\n",
    "\n"
   ]
  },
  {
   "attachments": {},
   "cell_type": "markdown",
   "metadata": {},
   "source": [
    "Q8. How would you define the superclasses of a class?\n",
    "\n",
    "ANS-Superclasses\n",
    "A superclass is the class from which many subclasses can be created. The subclasses inherit the characteristics of a superclass. The superclass is also known as the parent class or base class.\n",
    "\n",
    "A superclass exists in a hierarchical relationship with its subclasses. When classes participate in inheritance relationships, they become  \"affiliated\" with other classes. A class becomes either a superclass, supplying members to other classes, or a subclass, inheriting its members from other classes.\n",
    "\n",
    "\n",
    "In the  example, Vehicle is the Superclass and its subclasses are Car, Truck and Motorcycle"
   ]
  },
  {
   "cell_type": "markdown",
   "metadata": {},
   "source": []
  }
 ],
 "metadata": {
  "kernelspec": {
   "display_name": "Python 3",
   "language": "python",
   "name": "python3"
  },
  "language_info": {
   "name": "python",
   "version": "3.10.11"
  },
  "orig_nbformat": 4
 },
 "nbformat": 4,
 "nbformat_minor": 2
}
