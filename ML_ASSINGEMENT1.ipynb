{
 "cells": [
  {
   "attachments": {},
   "cell_type": "markdown",
   "metadata": {},
   "source": [
    "1. What does one mean by the term \"machine learning'?\n",
    "\n",
    "ANS-Machine learning is a subset of artificial intelligence (AI). It is focused on teaching computers to learn from data and to improve with experience – instead of being explicitly programmed to do so."
   ]
  },
  {
   "attachments": {},
   "cell_type": "markdown",
   "metadata": {},
   "source": [
    "2. Can you name 4 types of problems where it shines?\n",
    "\n",
    "ANS-Machine learning algorithms have had good results on problems such has spam detection in email, cancer diagnosis, fraudulent credit card transactions, and automatically driving vehicles.\n"
   ]
  },
  {
   "attachments": {},
   "cell_type": "markdown",
   "metadata": {},
   "source": [
    "3.What is a labeled training set, and how does it work?\n",
    "\n",
    "ANS-Labeled data makes the training process much more efficient and simple. The idea behind labeling data is to teach the AI to recognize patterns according to the task or target. This way, after the training process, the input of new unlabeled data will lead to predictable labels. You add labels to data and set a target, and the AI learns by example."
   ]
  },
  {
   "attachments": {},
   "cell_type": "markdown",
   "metadata": {},
   "source": [
    "4.What are the two most important tasks that are supervised?\n",
    "\n",
    "ANS-The two most common supervised learning tasks are regression and classification. In a regression problem we our prediciton is a scalar value. When we're trying to solve a classification problem, our output is either 1 or 0."
   ]
  },
  {
   "attachments": {},
   "cell_type": "markdown",
   "metadata": {},
   "source": [
    "5.Can you think of four examples of unsupervised tasks?\n",
    "\n",
    "ANS-Common unsupervised tasks include clustering, visualization, dimensionality reduction and association rule learning."
   ]
  },
  {
   "attachments": {},
   "cell_type": "markdown",
   "metadata": {},
   "source": [
    "6.State the machine learning model that would be best to make a robot walk through various\n",
    "unfamiliar terrains?\n",
    "\n",
    "ANS- I would use a reinforcement learning approach. Reinforcement learning is a system where an \"agent\" observes the environment, selects and performs actions, then recieves a reward or punishment based on the result of the action."
   ]
  },
  {
   "attachments": {},
   "cell_type": "markdown",
   "metadata": {},
   "source": [
    "7.Which algorithm will you use to divide your customers into different groups?\n",
    "\n",
    "ANS-Use Agglomerative Hierarchical Clustering algorithm for the customer segmentation."
   ]
  },
  {
   "attachments": {},
   "cell_type": "markdown",
   "metadata": {},
   "source": [
    "8.Will you consider the problem of spam detection to be a supervised or unsupervised learning\n",
    "problem?\n",
    "\n",
    "ANS-I would frame it as a supervised learning problem because humans have a general idea about what spam is and what it isn't. We can use this notion to create a labeled dataset for an algorithm to learn from.\n",
    "\n"
   ]
  },
  {
   "attachments": {},
   "cell_type": "markdown",
   "metadata": {},
   "source": [
    "9) What is an online learning system?\n",
    "\n",
    "ANS-An online learning system learns from new data on-the-fly. As a result, the system is trained incrementally either by using one example at a time or using a mini-batch approach. This keeps each learning step cheap and memory efficient."
   ]
  },
  {
   "attachments": {},
   "cell_type": "markdown",
   "metadata": {},
   "source": [
    "10.What is out-of-core learning, and how does it differ from core learning?\n",
    "\n",
    "ANS-Out-of-core (or “external memory”) learning is a technique used to learn from data that cannot fit in a computer’s main memory (RAM).The algorithm loads part of the data, runs a training step, then repeats the process until it has run on all the data."
   ]
  },
  {
   "attachments": {},
   "cell_type": "markdown",
   "metadata": {},
   "source": [
    "11.What kind of learning algorithm makes predictions using a similarity measure?\n",
    "\n",
    "ANS-Instance-based learning algorithms use a measure of similarity to generalize to new cases. In an instance-based learning system, the algorithm learns the examples by heart, then uses the similarity measure to generalize."
   ]
  },
  {
   "attachments": {},
   "cell_type": "markdown",
   "metadata": {},
   "source": [
    "12.What's the difference between a model parameter and a hyperparameter in a learning\n",
    "algorithm?\n",
    "\n",
    "ANS-A model parameter is a variable of the selected model which can be estimated by fitting the given data to the model. \n",
    "\n",
    "A model hyperparameter is the parameter whose value is set before the model start training. They cannot be learned by fitting the model to the data.\n",
    "\n"
   ]
  },
  {
   "attachments": {},
   "cell_type": "markdown",
   "metadata": {},
   "source": [
    "13.What do model-based learning algorithms search for? What is the most common strategy they use to succeed? How do they make predictions?\n",
    "\n",
    "ANS-Model based learning algorithm search for the optimal value of parameters in a model that will give the best results for the new instances. We often use a cost function or similar to determine what the parameter value has to be in order to minimize the function. The model makes prediction by using the value of the new instance and the parameters in its function."
   ]
  },
  {
   "attachments": {},
   "cell_type": "markdown",
   "metadata": {},
   "source": [
    "14.Can you name four of the most important Machine Learning challenges?\n",
    "\n",
    "ANS-Not gathering enough data, or sampling noise. Sampling noise means we'll have non-representative data as a result of chance.\n",
    "\n",
    "Using a dataset that is not representative of the cases you want to generalize to. This is called sampling bias. For example, if you want to train an algorithm with \"cat videos\", and all your videos are from YouTube, you're actually training an algorithm to learn about \"YouTube cat videos.\"\n",
    "\n",
    "Your dataset is full of missing values, outliers, and noise (poor measurments).\n",
    "\n",
    "The features in your dataset are irrelevant. Garbage in, garbage out.\n",
    "\n",
    "Feature selection - choose the most relevant features from your dataset\n",
    "Feature extraction - combine features in your dataset to generate a new, more useful feature"
   ]
  },
  {
   "attachments": {},
   "cell_type": "markdown",
   "metadata": {},
   "source": [
    "15.What happens if the model performs well on the training data but fails to generalize the results\n",
    "to new situations? Can you think of three different options?\n",
    "\n",
    "ANS-If the model performs poorly to new instances, then it has overfit on the training data. To solve this, we can do any of the following three: get more data, implement a simpler model, or eliminate outliers or noise from the existing data set."
   ]
  },
  {
   "attachments": {},
   "cell_type": "markdown",
   "metadata": {},
   "source": [
    "16.What exactly is a test set, and why would you need one?\n",
    "\n",
    "ANS-The test set allows you to compare different models in an unbiased way, by basing your comparisons in data that were not use in any part of your training/hyperparameter selection process."
   ]
  },
  {
   "attachments": {},
   "cell_type": "markdown",
   "metadata": {},
   "source": [
    "17.What is a validation sets purpose?\n",
    "\n",
    "ANS-Validation set is a set used to compare between different training models."
   ]
  },
  {
   "attachments": {},
   "cell_type": "markdown",
   "metadata": {},
   "source": [
    "18.What can go wrong if you tune hyperparameters using the test set?\n",
    "\n",
    "ANS-If you tune hyperparameters using the test sets, then it may not perform well on the out-of-sample data because the model is tuned just for that specific set."
   ]
  },
  {
   "attachments": {},
   "cell_type": "markdown",
   "metadata": {},
   "source": [
    "19.Cross-validation is a tool to compare models without needing a separate validation set. \n",
    "\n",
    "ANS-It is preferred over validation set because we can save from breaking of part of the training set to create a validation set, as having more data is valuable regardless."
   ]
  },
  {
   "attachments": {},
   "cell_type": "markdown",
   "metadata": {},
   "source": []
  }
 ],
 "metadata": {
  "language_info": {
   "name": "python"
  },
  "orig_nbformat": 4
 },
 "nbformat": 4,
 "nbformat_minor": 2
}
