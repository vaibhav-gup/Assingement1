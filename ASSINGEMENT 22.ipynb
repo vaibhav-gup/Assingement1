{
 "cells": [
  {
   "attachments": {},
   "cell_type": "markdown",
   "metadata": {},
   "source": [
    "Q1. What are the benefits of the built-in array package, if any?\n",
    "\n",
    "ANS-A built-in array is quite strict about the storage of objects in itself. It permits only that type of data to be stored in itself, which has been specified strictly by the typecode. We could not store float value when typecode specified that, int data has to be stored in the built-in array."
   ]
  },
  {
   "attachments": {},
   "cell_type": "markdown",
   "metadata": {},
   "source": [
    "Q2. What are some of the array packages limitations?\n",
    "\n",
    "ANS-Limited data type support: Arrays have limited support for complex data types such as objects and structures, as the elements of an array must all be of the same data type.\n",
    "Lack of flexibility: The fixed size and limited support for complex data types can make arrays inflexible compared to other data structures such as linked lists and trees."
   ]
  },
  {
   "attachments": {},
   "cell_type": "markdown",
   "metadata": {},
   "source": [
    "Q3. Describe the main differences between the array and numpy packages ?\n",
    "\n",
    "Ans: The array package doesn't provide any help with numerical calculation with the items insdie it in number form while NumPy give you a wide variety of numerical operations.\n"
   ]
  },
  {
   "attachments": {},
   "cell_type": "markdown",
   "metadata": {},
   "source": [
    "Q4. Explain the distinctions between the empty, ones, and zeros functions.\n",
    "\n",
    "ANS-The empty() function of NumPy creates an uninitialized array having shape and dtype as given to the empty() function.\n",
    "\n",
    "Syntax:\n",
    "\n",
    "empty(shape, dtype=float, order='C', *, like=None)\n",
    "\n",
    "zeros() function\n",
    "The zeros() function of NumPy creates a ndarray initialized with 0 values having shape and dtype as given as input.\n",
    "\n",
    "Syntax:\n",
    "\n",
    "zeros(shape, dtype=float, order='C', *, like=None)\n",
    "The arguments of zeros() function are same as empty() function.\n",
    "\n",
    "zeros() to create ndarray:\n",
    "\n",
    "ones() function:\n",
    "The ones() function of NumPy creates a ndarray initialized with 1 having shape and dtype as given as input.\n",
    "\n",
    "Syntax:\n",
    "\n",
    "np.ones(shape, dtype=None, order='C', *, like=None)\n",
    "The arguments of ones() function are the same as zeros() and empty() function. The only change is that the dtype default value is set to None.\n",
    "\n",
    "ones() to create ndarray:"
   ]
  },
  {
   "attachments": {},
   "cell_type": "markdown",
   "metadata": {},
   "source": [
    "Q5. In the fromfunction function, which is used to construct new arrays, what is the role of the callable\n",
    "argument?\n",
    "\n",
    "ANS-Its function is to execute the function over each coordinate and the resulting array. The function is called with N parameters, where N is the rank of shape.\n"
   ]
  },
  {
   "attachments": {},
   "cell_type": "markdown",
   "metadata": {},
   "source": [
    "Q6. What happens when a numpy array is combined with a single-value operand (a scalar, such as\n",
    "an int or a floating-point value) through addition, as in the expression A + n?\n",
    "\n",
    "Ans: If any scaler value such as integer is added to the numpy array then all the elements inside the array will add that value in it.\n"
   ]
  },
  {
   "attachments": {},
   "cell_type": "markdown",
   "metadata": {},
   "source": [
    "Q7. Can array-to-scalar operations use combined operation-assign operators (such as += or *=)? What is the outcome ?\n",
    "\n",
    "Ans: It will carry out provided operation on all elements of array."
   ]
  },
  {
   "attachments": {},
   "cell_type": "markdown",
   "metadata": {},
   "source": [
    "Q8. Does a numpy array contain fixed-length strings? What happens if you allocate a longer string to one of these arrays ?\n",
    "\n",
    "Ans: : Yes, it is possible that we can include a string of fixed length in numpy array. The dtype of any numpy array containing string values is the maximum length of any string present in the array.Once set, it will only be able to store new string having length not more than the maximum length at the time of the creation. If we try to reassign some another string value having length greater than the maximum length of the existing elements, it simply discards all the values beyond the maximum length accept upto those values which are under the limit.\n"
   ]
  },
  {
   "attachments": {},
   "cell_type": "markdown",
   "metadata": {},
   "source": [
    "Q9. What happens when you combine two numpy arrays using an operation like addition (+) or multiplication (*)? What are the conditions for combining two numpy arrays ?\n",
    "\n",
    "Ans: It will simply add or multiply element to element at same position."
   ]
  },
  {
   "attachments": {},
   "cell_type": "markdown",
   "metadata": {},
   "source": [
    "Q10. What is the best way to use a Boolean array to mask another array ?\n",
    "\n",
    "Ans: The best way to use a Boolean array to mask another array is by Using masked_where of numpy package"
   ]
  },
  {
   "attachments": {},
   "cell_type": "markdown",
   "metadata": {},
   "source": [
    "Q11. What are three different ways to get the standard deviation of a wide collection of data using both standard Python and its packages? Sort the three of them by how quickly they execute ?\n",
    "\n",
    "Ans: np.std and math package can be used individually."
   ]
  },
  {
   "attachments": {},
   "cell_type": "markdown",
   "metadata": {},
   "source": [
    "12. What is the dimensionality of a Boolean mask-generated array ?\n",
    "\n",
    "Ans: It will have same dimensionality as input array."
   ]
  },
  {
   "attachments": {},
   "cell_type": "markdown",
   "metadata": {},
   "source": []
  }
 ],
 "metadata": {
  "language_info": {
   "name": "python"
  },
  "orig_nbformat": 4
 },
 "nbformat": 4,
 "nbformat_minor": 2
}
