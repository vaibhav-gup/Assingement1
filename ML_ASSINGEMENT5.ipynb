{
 "cells": [
  {
   "attachments": {},
   "cell_type": "markdown",
   "metadata": {},
   "source": [
    "1. What are the key tasks that machine learning entails? What does data pre-processing imply?\n",
    "\n",
    "ANS-Machine learning involves several key tasks such as data pre-processing, feature extraction, feature selection, model training, model evaluation and model deployment.\n",
    "\n",
    "Data pre-processing is the first and crucial step while creating a machine learning model. It is the process of preparing the raw data and making it suitable for a machine learning model. Data pre-processing involves several steps such as getting the dataset, importing libraries, finding missing data, encoding categorical data, feature scaling and splitting data into training, validation and evaluation sets"
   ]
  },
  {
   "attachments": {},
   "cell_type": "markdown",
   "metadata": {},
   "source": [
    "2. Describe quantitative and qualitative data in depth. Make a distinction between the two.\n",
    "\n",
    "ANS-Quantitative data refers to any information that can be quantified. If it can be counted or measured, and given a numerical value, it’s quantitative data. Quantitative data can tell you “how many,” “how much,” or “how often”—for example, how many people attended last week’s webinar? How much revenue did the company make in 2019? How often does a certain customer group use online banking?\n",
    "\n",
    "To analyze and make sense of quantitative data, you’ll conduct statistical analyses.\n",
    "\n",
    "Unlike quantitative data, qualitative data cannot be measured or counted. It’s descriptive, expressed in terms of language rather than numerical values.\n",
    "\n",
    "Researchers will often turn to qualitative data to answer “Why?” or “How?” questions. For example, if your quantitative data tells you that a certain website visitor abandoned their shopping cart three times in one week, you’d probably want to investigate why—and this might involve collecting some form of qualitative data from the user. Perhaps you want to know how a user feels about a particular product; again, qualitative data can provide such insights. In this case, you’re not just looking at numbers; you’re asking the user to tell you, using language, why they did something or how they feel.\n",
    "\n",
    "Quantitative data is fixed and “universal,” while qualitative data is subjective and dynamic. For example, if something weighs 20 kilograms, that can be considered an objective fact. However, two people may have very different qualitative accounts of how they experience a particular event.\n",
    "Quantitative data is gathered by measuring and counting. Qualitative data is collected by interviewing and observing.\n",
    "Quantitative data is analyzed using statistical analysis, while qualitative data is analyzed by grouping it in terms of meaningful categories or themes."
   ]
  },
  {
   "attachments": {},
   "cell_type": "markdown",
   "metadata": {},
   "source": [
    "3. Create a basic data collection that includes some sample records. Have at least one attribute from\n",
    "each of the machine learning data types.\n",
    "\n",
    "ANS-To create a basic data collection that includes some sample records, you can use one or more of the following types of data1:\n",
    "\n",
    "Numerical data: Any data where data points are exact numbers. For example, age, height, weight, temperature, etc.\n",
    "Categorical data: Data that can be divided into groups or categories. For example, gender, color, type of fruit, etc.\n",
    "Time-series data: Data that is collected over time. For example, stock prices over time.\n",
    "Text data: Data that is in the form of text. For example, reviews of a product.\n",
    "\n",
    "You can choose one or more of these types of data and create a collection of sample records with at least one attribute from each type. For example:\n",
    "\n",
    "ID\tAge\tGender\tTemperature\tColor\tStock Price\tReview\n",
    "1\t25\tMale\t98.6\tRed\t$100\t“Great product!”\n",
    "2\t30\tFemale\t99.1\tBlue\t$110\t“Not bad.”\n",
    "3\t35\tMale\t97.9\tGreen\t$90\t“Terrible.”"
   ]
  },
  {
   "attachments": {},
   "cell_type": "markdown",
   "metadata": {},
   "source": [
    "4. What are the various causes of machine learning data issues? What are the ramifications?\n",
    "\n",
    "ANS-1. Inadequate Training Data\n",
    "The major issue that comes while using machine learning algorithms is the lack of quality as well as quantity of data\n",
    "\n",
    "2. Poor quality of data\n",
    "As we have discussed above, data plays a significant role in machine learning, and it must be of good quality as well.\n",
    "\n",
    "3. Non-representative training data\n",
    "To make sure our training model is generalized well or not, we have to ensure that sample training data must be representative of new cases that we need to generalize\n",
    "\n",
    "4. Overfitting and Underfitting"
   ]
  },
  {
   "attachments": {},
   "cell_type": "markdown",
   "metadata": {},
   "source": [
    "5. Demonstrate various approaches to categorical data exploration with appropriate examples.\n",
    "\n",
    "ANS-Categorical data exploration is an important step in data analysis. Here are some approaches to explore categorical data with examples:\n",
    "\n",
    "Frequency distribution table: This table shows the frequency of each category in the data set. For example, if you have a data set of students’ grades (A, B, C, D), you can create a frequency distribution table that shows how many students got each grade.\n",
    "\n",
    "Bar chart: A bar chart is a graphical representation of the frequency distribution table. It shows the frequency of each category as a bar. For example, you can create a bar chart that shows the number of students who got each grade.\n",
    "\n",
    "Pie chart: A pie chart is another graphical representation of the frequency distribution table. It shows the frequency of each category as a slice of a pie. For example, you can create a pie chart that shows the percentage of students who got each grade.\n",
    "\n",
    "Cross-tabulation: Cross-tabulation is used to explore the relationship between two categorical variables. For example, if you have a data set of students’ grades and their gender, you can create a cross-tabulation table that shows how many male and female students got each grade.\n",
    "\n",
    "Chi-square test: The chi-square test is used to determine if there is a significant relationship between two categorical variables. For example, if you have a data set of students’ grades and their gender, you can use the chi-square test to determine if there is a significant relationship between gender and grades."
   ]
  },
  {
   "attachments": {},
   "cell_type": "markdown",
   "metadata": {},
   "source": []
  },
  {
   "attachments": {},
   "cell_type": "markdown",
   "metadata": {},
   "source": [
    "6. How would the learning activity be affected if certain variables have missing values? Having said\n",
    "that, what can be done about it?\n",
    "\n",
    "ANS-Missing values in variables can affect the learning activity by reducing the accuracy of the model. There are several ways to handle missing values in machine learning datasets. One way is to use the features which do not have missing values to predict the nulls with the help of a machine learning algorithm. This method may result in better accuracy, unless a missing value is expected to have a very high variance. Another way is to approximate it with the deviation of neighboring values. This works better if the data is linear1.\n",
    "\n",
    "There are also statistical approaches of handling missing values such as replacing them with approximations like mean, median or mode1. However, this method may result in leaking data while training1."
   ]
  },
  {
   "attachments": {},
   "cell_type": "markdown",
   "metadata": {},
   "source": [
    "6. How would the learning activity be affected if certain variables have missing values? Having said\n",
    "that, what can be done about it?\n",
    "\n",
    "ANS-Missing values in variables can affect the learning activity by reducing the accuracy of the model. There are several ways to handle missing values in machine learning datasets. One way is to use the features which do not have missing values to predict the nulls with the help of a machine learning algorithm. This method may result in better accuracy, unless a missing value is expected to have a very high variance. Another way is to approximate it with the deviation of neighboring values. This works better if the data is linear1.\n",
    "\n",
    "There are also statistical approaches of handling missing values such as replacing them with approximations like mean, median or mode1. However, this method may result in leaking data while training"
   ]
  },
  {
   "attachments": {},
   "cell_type": "markdown",
   "metadata": {},
   "source": [
    "7. Describe the various methods for dealing with missing data values in depth.\n",
    "\n",
    "ANS-There are several methods to handle missing data values. Some of the most popular methods are:\n",
    "\n",
    "Ignore missing values row / Delete row\n",
    "\n",
    "Fill missing value manually\n",
    "\n",
    "\n",
    "Use global constant\n",
    "\n",
    "Measure of central tendency (Mean, Median & \n",
    "Mode)\n",
    "\n",
    "Measure of central tendency for each class\n",
    "\n",
    "Most probable value ( ML Algorithms)1\n",
    "\n",
    "It is important to analyze each column with missing values carefully to understand the reasons behind the missing of those values, as this information is crucial to choose the strategy for handling the missing values2."
   ]
  },
  {
   "attachments": {},
   "cell_type": "markdown",
   "metadata": {},
   "source": [
    "8. What are the various data pre-processing techniques? Explain dimensionality reduction and\n",
    "function selection in a few words.\n",
    "\n",
    "ANS-Data pre-processing is an important step in machine learning. It involves cleaning and transforming raw data into a format that can be used by machine learning algorithms. Some of the most common data pre-processing techniques are:\n",
    "\n",
    "Data cleaning\n",
    "\n",
    "Data integration\n",
    "\n",
    "Data transformation\n",
    "\n",
    "Data reduction\n",
    "\n",
    "Data discretization\n",
    "\n",
    "Dimensionality reduction is a technique used in data reduction to reduce the number of features (or dimensions) in a dataset while retaining as much information as possible. It can be used as a preprocessing step before applying machine learning algorithms to reduce the dimensionality of the data and hence improve the performance of the model.\n",
    "\n",
    "Function selection is another technique used in data pre-processing to select the most relevant features for a given problem"
   ]
  },
  {
   "attachments": {},
   "cell_type": "markdown",
   "metadata": {},
   "source": [
    "9.i. What is the IQR? What criteria are used to assess it?\n",
    "\n",
    "ANS-The IQR stands for Interquartile Range. It is a measure of variability based on dividing a data set into quartiles. The IQR is the difference between the third quartile (Q3) and the first quartile (Q1) of the data set.\n",
    "\n",
    "The criteria used to assess the IQR are:\n",
    "\n",
    "Outliers: The IQR can be used to identify outliers in a data set. Outliers are defined as observations that fall below Q1 - 1.5(IQR) or above Q3 + 1.5(IQR).\n",
    "\n",
    "Skewness: The IQR can also be used to assess the skewness of a data set. If the IQR is small relative to the range of the data, then the data is likely to be skewed.\n",
    "\n",
    "\n"
   ]
  },
  {
   "attachments": {},
   "cell_type": "markdown",
   "metadata": {},
   "source": [
    "ii. Describe the various components of a box plot in detail? When will the lower whisker\n",
    "surpass the upper whisker in length? How can box plots be used to identify outliers?\n",
    "\n",
    "A box plot is a graphical representation of a data set that shows the distribution of the data. The box plot consists of several components:\n",
    "\n",
    "Median: The median is the middle value of the data set. It is represented by a line inside the box.\n",
    "\n",
    "Quartiles: The box represents the interquartile range (IQR), which is the range between the first quartile (Q1) and the third quartile (Q3) of the data set.\n",
    "\n",
    "Whiskers: The whiskers extend from the box to show the range of the data. The length of the whiskers is determined by a parameter called the whisker length. By default, this parameter is set to 1.5 times the IQR.\n",
    "\n",
    "Outliers: Outliers are data points that fall outside of the whiskers. They are represented by dots or circles.\n",
    "\n",
    "The lower whisker will surpass the upper whisker in length when there are no outliers in the lower half of the data set and there are outliers in the upper half of the data set.\n",
    "\n",
    "Box plots can be used to identify outliers by looking for data points that fall outside of the whiskers"
   ]
  },
  {
   "attachments": {},
   "cell_type": "markdown",
   "metadata": {},
   "source": [
    "\n",
    "Make brief notes on The gap between the quartiles\n"
   ]
  },
  {
   "attachments": {},
   "cell_type": "markdown",
   "metadata": {},
   "source": [
    "Quartiles are three values that split sorted data into four parts, each with an equal number of observations. Quartiles are a type of quantile.\n",
    "\n",
    "First quartile: Also known as Q1, or the lower quartile. This is the number halfway between the lowest number and the middle number.\n",
    "Second quartile: Also known as Q2, or the median. This is the middle number halfway between the lowest number and the highest number.\n",
    "Third quartile: Also known as Q3, or the upper quartile. This is the number halfway between the middle number and the highest number.\n",
    "\n",
    "A quartile is a type of quantile.\n",
    "\n",
    "Quantiles are values that split sorted data or a probability distribution into equal parts. In general terms, a q-quantile divides sorted data into q parts. The most commonly used quantiles have special names:\n",
    "\n",
    "Quartiles (4-quantiles): Three quartiles split the data into four parts.\n",
    "Deciles (10-quantiles): Nine deciles split the data into 10 parts.\n",
    "Percentiles (100-quantiles): 99 percentiles split the data into 100 parts.\n",
    "There is always one fewer quantile than there are parts created by the quantiles."
   ]
  },
  {
   "attachments": {},
   "cell_type": "markdown",
   "metadata": {},
   "source": [
    "Make brief notes on Use a cross-tab\n",
    "\n",
    "Cross tabulation (crosstab) is a useful analysis tool commonly used to compare the results for one or more variables with the results of another variable. It is used with data on a nominal scale, where variables are named or labeled with no specific order.\n",
    "\n",
    "Crosstabs are basically data tables that present the results from a full group of survey respondents as well as subgroups. They allow you to examine relationships within the data that might not be obvious when simply looking at total survey responses.\n",
    "\n",
    "Benefits of cross tabulation\n",
    "With cross tabulation, you can examine your data in a variety of ways to achieve a deeper understanding of groups within your respondents."
   ]
  },
  {
   "attachments": {},
   "cell_type": "markdown",
   "metadata": {},
   "source": [
    "comparison between:\n",
    "\n",
    "1. Data with nominal and ordinal values\n",
    "\n",
    "\n",
    "Ordinal data is data that can be ranked or ordered, such as test results grouped in descending order by grade. Nominal data is data that can be made to fit various categories, such as whether an animal is a mammal, fish, reptile, amphibian, or bird1. Nominal data assigns names to each data point without placing it in some sort of order, while ordinal data groups data according to some sort of ranking system23. Nominal data includes names or characteristics that contain two or more categories, and the categories have no inherent ordering, while ordinal data has an obvious ordering in the data."
   ]
  },
  {
   "attachments": {},
   "cell_type": "markdown",
   "metadata": {},
   "source": [
    "2. Histogram and box plot\n",
    "\n",
    "Histograms and box plots are both used to explore and present data1. Histograms are used to determine the underlying probability distribution of a data, while box plots are more useful when comparing between several data sets. Box plots are less detailed than histograms and take up less space1. A box plot is an effective graphical representation of five-number summary, while histogram is a type of bar chart to visualize the distribution of a dataset."
   ]
  },
  {
   "attachments": {},
   "cell_type": "markdown",
   "metadata": {},
   "source": [
    "3. The average and median\n",
    "\n",
    "Median-\n",
    "\n",
    "Definition:\n",
    "\n",
    "Middle number or average of middle numbers in the sorted list of numbers\n",
    "\n",
    "Formula:\n",
    "\n",
    "n= total members in the list\n",
    "\n",
    "If n =odd\n",
    "\n",
    "Median = ((n+1)/2)th term\n",
    "\n",
    "If n=even\n",
    "\n",
    "Median = ((n/2)th term + (n/2+1)th term)/2\n",
    "\n",
    "Example in usage:\n",
    "\n",
    "Usually used in income level research\n",
    "\n",
    "Average-\n",
    "\n",
    "Definition:\n",
    "\n",
    "Also known as mean, obtained by dividing the sum of quantities by the number of quantities\n",
    "\n",
    "\n",
    "Formula:\n",
    "\n",
    "Sum of all data values/ number of data values\n",
    "\n",
    "Example in usage:\n",
    "\n",
    "Usually used when the graph falls on a normal distribution\n"
   ]
  },
  {
   "attachments": {},
   "cell_type": "markdown",
   "metadata": {},
   "source": []
  }
 ],
 "metadata": {
  "language_info": {
   "name": "python"
  },
  "orig_nbformat": 4
 },
 "nbformat": 4,
 "nbformat_minor": 2
}
