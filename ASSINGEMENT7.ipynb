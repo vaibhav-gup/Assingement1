{
 "cells": [
  {
   "attachments": {},
   "cell_type": "markdown",
   "metadata": {},
   "source": [
    "Q1. What are the two latest user-defined exception constraints in Python 3.X?\n",
    "\n",
    "ANS-the two latest user-defined exception constraints in Python 3.X are raise and assert."
   ]
  },
  {
   "cell_type": "code",
   "execution_count": null,
   "metadata": {
    "vscode": {
     "languageId": "powershell"
    }
   },
   "outputs": [],
   "source": [
    "Q2. How are class-based exceptions that have been raised matched to handlers?\n",
    "\n",
    "ANS-For these cases, class-based exceptions can be raised and propagated as resumable exceptions (RESUMABLE). A handler can decide whether a service is canceled completely or is resumed using the statement RESUME, for example after a corresponding log entry has been written.\n",
    "\n",
    "class ToYoungException(Exception):\n",
    "    def __init__(self,msg):\n",
    "        self.msg = msg\n",
    "age = 12\n",
    "if age <= 18: raise ToYoungException('To Young For Voting')\n",
    "---------------------------------------------------------------------------\n",
    "ToYoungException                          Traceback (most recent call last)\n",
    "<ipython-input-1-b97f009151c8> in <module>()\n",
    "      3         self.msg = msg\n",
    "      4 age = 12\n",
    "----> 5 if age <= 18: raise ToYoungException('To Young For Voting')\n",
    "\n",
    "ToYoungException: To Young For Voting"
   ]
  },
  {
   "attachments": {},
   "cell_type": "markdown",
   "metadata": {},
   "source": [
    "Q3. Describe two methods for attaching context information to exception artefacts.\n",
    "\n",
    "ANS-Exception chaining in try-except statement\n",
    "   Using exception arguments to add more information to error messages."
   ]
  },
  {
   "attachments": {},
   "cell_type": "markdown",
   "metadata": {},
   "source": [
    "Q4. Describe two methods for specifying the text of an exception object's error message.\n",
    "\n",
    "ANS- 1. Passing an error message as a string in exception argument.\n",
    "     2. Creating a custom exception by over-riding the __str__ method of the exception"
   ]
  },
  {
   "attachments": {},
   "cell_type": "markdown",
   "metadata": {},
   "source": [
    "Q5. Why do you no longer use string-based exceptions?\n",
    "\n",
    "ANS- String based exceptions are not as clear, multiple errors can have the same exceptions. In contrast class based exceptions are much more clear, specific, and can be customized. Hence, in python 3.x class based exceptions are used."
   ]
  },
  {
   "cell_type": "markdown",
   "metadata": {},
   "source": []
  }
 ],
 "metadata": {
  "language_info": {
   "name": "python"
  },
  "orig_nbformat": 4
 },
 "nbformat": 4,
 "nbformat_minor": 2
}
