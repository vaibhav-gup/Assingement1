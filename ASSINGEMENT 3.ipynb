{
 "cells": [
  {
   "attachments": {},
   "cell_type": "markdown",
   "metadata": {},
   "source": [
    "1. What is the concept of an abstract superclass?\n",
    "\n",
    "ANS-Abstract Super Class. A common superclass for several subclasses. Factor up common behavior. Define the methods they all respond to. Methods that subclasses should implement are declared abstract.\n",
    "\n",
    "In some cases your superclass might actually have a default implementation for the method that subclasses are supposed to override. In that case, you cannot make the method abstract. You can still make the superclass abstract though, even if it contains no abstract methods.\n",
    "\n",
    "Super class being an abstract class creates an overhead for all its sub classes to compulsorily define its abstract methods. I understand that it's very basic but I need to know why do programmers usually make super class as an abstract class, though we can do similar things using a super class as a non abstract class.\n",
    "\n",
    "An abstract superclass is one way to provide re-usable code.\n",
    "\n",
    "You can extend the abstract class and inherit the code. This is sometimes more convenient than using static methods or object composition to share code.\n",
    "\n",
    "The abstract class can \"fix\" parts of the code (by making it final). This is called the \"template method\" pattern (and this is not possible with an interface, which cannot provide final methods).\n",
    "\n",
    "Of course, you can achieve both with a non-abstract superclass as well.\n",
    "\n",
    "An abstract class has the additional benefit that it does not have to provide a complete implementation (that would make sense to instantiate on its own), some parts can be left specified, but unimplemented (the abstract methods)."
   ]
  },
  {
   "attachments": {},
   "cell_type": "markdown",
   "metadata": {},
   "source": [
    "2. What happens when a class statement's top level contains a basic assignment statement?\n",
    "\n",
    "ANS-An assignment statement evaluates the expression list (remember that this can be a single expression or a comma-separated list, the latter yielding a tuple) and assigns the single resulting object to each of the target lists, from left to right.\n",
    "\n",
    "In computer programming, an assignment statement sets and/or re-sets the value stored in the storage location(s) denoted by a variable name; in other words, it copies a value into the variable.\n",
    "\n",
    "An assignment statement stores a value in a variable.\n",
    "\n",
    "variableName = 6"
   ]
  },
  {
   "cell_type": "markdown",
   "metadata": {},
   "source": [
    "3. Why does a class need to manually call a superclass's __init__ method?\n",
    "\n",
    "ANS-It's because one needs to define something that is NOT done in the base-class' init , and the only possibility to obtain that is to put its execution in a derived-class' init function."
   ]
  },
  {
   "cell_type": "code",
   "execution_count": null,
   "metadata": {
    "vscode": {
     "languageId": "plaintext"
    }
   },
   "outputs": [],
   "source": [
    "4. How can you augment, instead of completely replacing, an inherited method?\n",
    "\n",
    "ANS-I have a list of Spam objects:\n",
    "\n",
    "class Spam:\n",
    "    def update(self):\n",
    "        print('updating spam!')\n",
    "some of them might be SpamLite objects:\n",
    "\n",
    "class SpamLite(Spam):\n",
    "    def update(self):\n",
    "        print('this spam is lite!')\n",
    "        Spam.update(self)\n",
    "I would like to be able to take an arbitrary object from the list, and add something to it's update method, something like:\n",
    "\n",
    "def poison(spam):\n",
    "    tmp = spam.update \n",
    "    def newUpdate(self):\n",
    "        print ('this spam has been poisoned!')\n",
    "        tmp(self)\n",
    "    spam.update = newUpdate"
   ]
  },
  {
   "cell_type": "markdown",
   "metadata": {},
   "source": [
    "5. How is the local scope of a class different from that of a function?\n",
    "\n",
    "ANS-Local variables have Function Scope: They can only be accessed from within the function. Since local variables are only recognized inside their functions, variables with the same name can be used in different functions. Local variables are created when a function starts, and deleted when the function is completed.\n",
    "\n",
    "A variable's scope is the range of the script where it is visible. Variables have either global or local scope. A global variable exists only once in a script, and is visible in every function. A local variable, however, has a limited scope: it exists only within the block that it is declared in.\n",
    "\n",
    "Global variables are variables declared outside a function. Local variables are variables declared inside a function. While global variables cannot be directly changed in a function, you can use the global keyword to create a function that will change the value of a global variable"
   ]
  },
  {
   "cell_type": "markdown",
   "metadata": {},
   "source": []
  }
 ],
 "metadata": {
  "language_info": {
   "name": "python"
  },
  "orig_nbformat": 4
 },
 "nbformat": 4,
 "nbformat_minor": 2
}
