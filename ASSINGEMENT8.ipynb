{
 "cells": [
  {
   "attachments": {},
   "cell_type": "markdown",
   "metadata": {},
   "source": [
    "q1. in python 3.x, what are the names and functions of string object types?\n",
    "\n",
    "ANS-n Python 3.x, the string object types are bytes and str. The bytes type represents a sequence of bytes or a byte string. It is an immutable sequence of integers in the range 0 <= x < 256. The str type represents a sequence of Unicode code points. It is an immutable sequence of Unicode characters \n",
    "\n",
    "Here are some functions that can be used with these types:\n",
    "\n",
    "bytes(): returns a new bytes object.\n",
    "str(): returns a new string object.\n",
    "len(): returns the length of the bytes or string object.\n",
    "capitalize(): returns a copy of the string with its first character capitalized and the rest lowercased.\n",
    "lower(): returns a copy of the string with all characters in lowercase.\n",
    "upper(): returns a copy of the string with all characters in uppercase.\n",
    "replace(old, new[, count]): returns a copy of the string with all occurrences of substring old replaced by new or at most count occurrences if count given "
   ]
  },
  {
   "attachments": {},
   "cell_type": "markdown",
   "metadata": {},
   "source": [
    "Q2. How do the string forms in Python 3.X vary in terms of operations?\n",
    "\n",
    "ANS-string — Common string operations\n",
    "\n",
    "String constants\n",
    "The constants defined in this module are:\n",
    "\n",
    "string.ascii_letters The concatenation of the ascii_lowercase and ascii_uppercase constants described below. This value is not locale-dependent.\n",
    "\n",
    "string.ascii_lowercase The lowercase letters 'abcdefghijklmnopqrstuvwxyz'. This value is not locale-dependent and will not change.\n",
    "\n",
    "string.ascii_uppercase The uppercase letters 'ABCDEFGHIJKLMNOPQRSTUVWXYZ'. This value is not locale-dependent and will not change.\n",
    "\n",
    "string.digits The string '0123456789'.\n",
    "\n",
    "string.hexdigits The string '0123456789abcdefABCDEF'.\n",
    "\n",
    "string.octdigits The string '01234567'.\n",
    "\n",
    "string.punctuation String of ASCII characters which are considered punctuation characters in the C locale: !\"#$%&'()*+,-./:;<=>?@[]^_`{|}~.\n",
    "\n",
    "string.printable String of ASCII characters which are considered printable. This is a combination of digits, ascii_letters, punctuation, and whitespace.\n",
    "\n",
    "string.whitespace A string containing all ASCII characters that are considered whitespace. This includes the characters space, tab, linefeed, return, formfeed, and vertical tab."
   ]
  },
  {
   "attachments": {},
   "cell_type": "markdown",
   "metadata": {},
   "source": [
    "Q3. In 3.X, how do you put non-ASCII Unicode characters in a string?\n",
    "ANS-Non-ASCII domains are called Internationalized Domain Names (IDNs). ... They are not confined to strictly ASCII characters. Examples of \n",
    "    Non-ASCII Characters. Examples of non-ascii characters used in international domain extensions.\n",
    "\n",
    "    I have a string that looks like so:\n",
    "\n",
    "    s = '6Â 918Â 417Â 712'\n",
    "    The clear cut way to trim this string (as I understand Python) is simply to say the string is in a variable called s, we get:\n",
    "\n",
    "     '6918417712'"
   ]
  },
  {
   "attachments": {},
   "cell_type": "markdown",
   "metadata": {},
   "source": [
    "\n",
    "\n",
    "ANS-In Python 3.X, the key differences between text-mode and binary-mode files are:\n",
    "\n",
    "Text-mode files handle data as strings of Unicode characters, while binary-mode files handle data as a sequence of bytes.\n",
    "\n",
    "Text-mode files use the platform-specific newline convention when writing, and translate it to the universal newline convention (\"\\n\") when reading. In contrast, binary-mode files do not perform any newline translation.\n",
    "\n",
    "Text-mode files automatically encode Unicode strings to bytes when writing, and decode bytes to Unicode strings when reading, using the specified encoding. Binary-mode files do not perform any encoding or decoding.\n",
    "\n",
    "Text-mode files provide additional high-level I/O methods for working with strings, such as readline() and writelines(), while binary-mode files provide lower-level I/O methods that work with bytes, such as read() and write().\n",
    "\n",
    "Text-mode files may raise exceptions when encountering encoding or decoding errors, while binary-mode files may raise exceptions when encountering I/O errors or reaching the end of file."
   ]
  },
  {
   "cell_type": "markdown",
   "metadata": {},
   "source": [
    "Q5. How can you interpret a Unicode text file containing text encoded in a different encoding than\n",
    "your platform&#39;s default?\n",
    "\n",
    "ANS-using the encoding parameter of the open() function to specify the encoding."
   ]
  },
  {
   "attachments": {},
   "cell_type": "markdown",
   "metadata": {},
   "source": [
    "Q6. What is the best way to make a Unicode text file in a particular encoding format?\n",
    "\n",
    "ANS- To make a Unicode text file in a particular encoding format in Python, you can use the open() function with the appropriate encoding argument. "
   ]
  },
  {
   "attachments": {},
   "cell_type": "markdown",
   "metadata": {},
   "source": [
    "Q7. What qualifies ASCII text as a form of Unicode text?\n",
    "\n",
    "ANS- ASCII text is a form of Unicode text because ASCII is a subset of Unicode. Unicode is a superset of ASCII, which means that all ASCII characters are included in Unicode. Therefore, any text that contains only ASCII characters is also a valid Unicode text."
   ]
  },
  {
   "attachments": {},
   "cell_type": "markdown",
   "metadata": {},
   "source": [
    "Q8. How much of an effect does the change in string types in Python 3.X have on your code?\n",
    "\n",
    "ANS- The change in string types in Python 3.X can have a significant effect on your code, depending on how your code interacts with strings. One of the main differences in Python 3.X is that strings are Unicode by default, whereas in Python 2.X, strings were typically encoded as ASCII or another byte-based encoding. This means that in Python 3.X, your code may need to use different string methods and encoding/decoding functions to work with strings in a Unicode context.\n"
   ]
  },
  {
   "cell_type": "markdown",
   "metadata": {},
   "source": []
  }
 ],
 "metadata": {
  "language_info": {
   "name": "python"
  },
  "orig_nbformat": 4
 },
 "nbformat": 4,
 "nbformat_minor": 2
}
