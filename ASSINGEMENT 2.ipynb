{
 "cells": [
  {
   "attachments": {},
   "cell_type": "markdown",
   "metadata": {},
   "source": [
    "Q1. What is the relationship between classes and modules?\n",
    "\n",
    "ANS-Classes in python are templates for creating objects. They contain variables and functions which define the class objects. At the same time, modules are python programs that can be imported into another python program. Importing a module enables the usage of the module’s functions and variables into another program.\n",
    "\n",
    "EXAMPLE\n",
    "# A simple module, calc.py\n",
    "def add(x, y):\n",
    "\treturn (x+y)\n",
    "\n",
    "def subtract(x, y):\n",
    "\treturn (x-y)\n"
   ]
  },
  {
   "attachments": {},
   "cell_type": "markdown",
   "metadata": {},
   "source": [
    "\n",
    "Q2. How do you make instances and classes?\n",
    "\n",
    "ANS-A class is a user-defined blueprint or prototype from which objects are created. Classes provide a means of bundling data and functionality together. Creating a new class creates a new type of object, allowing new instances of that type to be made. Each class instance can have attributes attached to it for maintaining its state. Class instances can also have methods (defined by its class) for modifying its state.\n",
    "\n",
    "An instance method can access and even modify the value of attributes of an instance. It has one default parameter:-\n",
    "\n",
    "self – It is a keyword which points to the current passed instance. But it need not be passed every time while calling an instance method.\n",
    "Example:\n",
    "\n",
    "\n",
    "# Python program to demonstrate\n",
    "# instance methods\n",
    "  \n",
    "  \n",
    "class shape:\n",
    "      \n",
    "    # Calling Constructor\n",
    "    def __init__(self, edge, color):\n",
    "        self.edge = edge\n",
    "        self.color = color\n",
    "          \n",
    "    # Instance Method\n",
    "    def finEdges(self):\n",
    "        return self.edge\n",
    "          \n",
    "    # Instance Method\n",
    "    def modifyEdges(self, newedge):\n",
    "        self.edge = newedge\n",
    "          \n",
    "# Driver Code\n",
    "circle = shape(0, 'red')\n",
    "square = shape(4, 'blue')\n",
    "  \n",
    "# Calling Instance Method\n",
    "print(\"No. of edges for circle: \"+ str(circle.finEdges()))\n",
    "  \n",
    "# Calling Instance Method\n",
    "square.modifyEdges(6)\n",
    "  \n",
    "print(\"No. of edges for square: \"+ str(square.finEdges()))\n",
    "\n",
    "Output\n",
    "\n",
    "No. of edges for circle: 0\n",
    "No. of edges for square: 6\n",
    "\n"
   ]
  },
  {
   "attachments": {},
   "cell_type": "markdown",
   "metadata": {},
   "source": [
    "\n",
    "Q3. Where and how should be class attributes created?\n",
    "\n",
    "ANS-\n",
    "To define a class attribute, you place it outside of the __init__() method\n",
    "\n",
    "For example, the following defines pi as a class attribute:\n",
    "\n",
    "class Circle:\n",
    "    pi = 3.14159\n",
    "\n",
    "    def __init__(self, radius):\n",
    "        self.radius = radius\n",
    "\n",
    "    def area(self):\n",
    "        return self.pi * self.radius**2\n",
    "\n",
    "    def circumference(self):\n",
    "        return 2 * self.pi * self.radius\n",
    "\n",
    "\n",
    "After that, you can access the class attribute via instances of the class or via the class name:\n",
    "\n",
    "object_name.class_attribute\n",
    "class_name.class_attribute\n",
    "Code language: Oracle Rules Language (ruleslanguage)\n",
    "In the area() and circumference() methods, we access the pi class attribute via the self variable.\n",
    "\n",
    "Outside the Circle class, you can access the pi class attribute via an instance of the Circle class or directly via the Circle class. For example:\n",
    "\n",
    "c = Circle(10)\n",
    "print(c.pi)\n",
    "print(Circle.pi)\n",
    "Code language: Python (python)\n",
    "Output:\n",
    "\n",
    "3.14159\n",
    "3.14159\n",
    "Code language: Python (python)\n",
    "\n"
   ]
  },
  {
   "attachments": {},
   "cell_type": "markdown",
   "metadata": {},
   "source": [
    "Q4. Where and how are instance attributes created?\n",
    "\n",
    "ANS-Instance attribute are created inside the class body \n",
    " Such attributes are defined in the class body parts usually at the end after all the objects are created\n",
    " "
   ]
  },
  {
   "attachments": {},
   "cell_type": "markdown",
   "metadata": {},
   "source": [
    "Q5. What does the term \"self\" in a Python class mean?\n",
    "\n",
    "ANS-\"self\" represents the instance of the class. By using the “self”  we can access the attributes and methods of the class in python. It binds the attributes with the given arguments.\n",
    "\n",
    "The reason you need to use self. is because Python does not use the @ syntax to refer to instance attributes. Python decided to do methods in a way that makes the instance to which the method belongs be passed automatically, but not received automatically: the first parameter of methods is the instance the method is called on."
   ]
  },
  {
   "attachments": {},
   "cell_type": "markdown",
   "metadata": {},
   "source": [
    "Q6. How does a Python class handle operator overloading?\n",
    "\n",
    "ANS- Operator Overloading means giving extended meaning beyond their predefined operational meaning. For example operator + is used to add two integers as well as join two strings and merge two lists. It is achievable because ‘+’ operator is overloaded by int class and str class. You might have noticed that the same built-in operator or function shows different behavior for objects of different classes, this is called Operator Overloading. "
   ]
  },
  {
   "attachments": {},
   "cell_type": "markdown",
   "metadata": {},
   "source": [
    "Q7. When do you consider allowing operator overloading of your classes?\n",
    "\n",
    "ANS-In summary, you might want to support operator overloading in your classes when it makes the code more intuitive, readable, and easier to use by allowing users to perform operations using standard operators."
   ]
  },
  {
   "attachments": {},
   "cell_type": "markdown",
   "metadata": {},
   "source": [
    "Q8. What is the most popular form of operator overloading?\n",
    "\n",
    "ANS-1. Plus Operator Overloaded\n",
    " The most frequent instance is the adding up operator ‘+’, where it can be used for the usual addition and also for combining two different strings. As mentioned on top, the plus symbol’s practice in dissimilar forms is the largest classic example of the operator level overloading process.\n",
    "\n",
    "      Multiplication Operator Overloaded\n",
    " Another similar example of a binary operator involved in the overloading process can be noticed in the usage of ‘ * ‘. This operator not only responsible for multiplying two given numbers but also has the capability to perform the repetition of strings and lists.\n",
    "\n",
    "\n",
    "      . Greater than and Less than Operator Overloaded\n",
    " Even the comparison operators like > and < exhibit very similar operator overloading outcomes. They display a great difference in handling usual numbers and strings..\n",
    "\n",
    "        Equal to Operator Overloaded\n",
    " The equal operator (==) is used for comparing two different lists."
   ]
  },
  {
   "attachments": {},
   "cell_type": "markdown",
   "metadata": {},
   "source": [
    "Q9. What are the two most important concepts to grasp in order to comprehend Python OOP code?\n",
    "\n",
    "Ans: The two most important concepts to grasp in order to comprehend Python OOP code are classes and objects.\n",
    "\n",
    "A class in Python is a template or blueprint for creating objects. It defines the attributes and methods that objects of that class will have, and provides a way to initialize those attributes and access and modify them. An object is an instance of a class. It contains the specific data and behavior that are defined by the class, and it can be used to perform actions and manipulate data using the methods of the class. Understanding these two concepts is essential for comprehending Python OOP code, as most Python OOP code is organized into classes and objects. Once you understand how classes and objects work in Python, you will be able to understand how the code uses them to define data and behavior, and how to create and use objects of those classes in your own code."
   ]
  },
  {
   "cell_type": "markdown",
   "metadata": {},
   "source": []
  }
 ],
 "metadata": {
  "language_info": {
   "name": "python"
  },
  "orig_nbformat": 4
 },
 "nbformat": 4,
 "nbformat_minor": 2
}
