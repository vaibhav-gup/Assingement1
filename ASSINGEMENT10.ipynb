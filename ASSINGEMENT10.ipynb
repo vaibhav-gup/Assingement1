{
 "cells": [
  {
   "attachments": {},
   "cell_type": "markdown",
   "metadata": {},
   "source": [
    "q1. what is the difference between __getattr__ and __getattribute__?\n",
    "\n",
    "ANS-In Python, getattr and getattribute are both methods that are called when an attribute lookup is performed on an object. However, there is a key difference between the two methods.\n",
    "\n",
    "getattr is only called when an attribute is not found through the usual means (i.e., it is not found as an instance attribute or as a class attribute). It can be used to implement a fallback for missing attributes.\n",
    "\n",
    "On the other hand, getattribute is called every time an attribute lookup is performed on an object. It is called before looking at the actual attributes on the object. This means that it can be tricky to implement correctly and can easily lead to infinite recursion.\n",
    "\n",
    "In summary, getattr is used for implementing a fallback for missing attributes while getattribute is used for intercepting every attribute lookup on an object.\n",
    "\n"
   ]
  },
  {
   "attachments": {},
   "cell_type": "markdown",
   "metadata": {},
   "source": [
    "Q2. What is the difference between properties and descriptors?\n",
    "\n",
    "ANS-The Cliff's Notes version: descriptors are a low-level mechanism that lets you hook into an object's attributes being accessed. Properties are a high-level application of this; that is, properties are implemented using descriptors.\n",
    "\n",
    "properties\n",
    "Properties can be considered the \"Pythonic\" way of working with attributes because:\n",
    "\n",
    "The syntax used to define properties is very concise and readable. You can access instance attributes exactly as if they were public attributes while using the \"magic\" of intermediaries (getters and setters) to validate new values and to avoid accessing or modifying the data directly. By using @property, you can \"reuse\" the name of a property to avoid creating new names for the getters, setters, and deleters.\n",
    "\n",
    "descriptor\n",
    "Python descriptors are created to manage the attributes of different classes which use the object as reference. In descriptors we used three different methods that are getters(), setters(), and delete(). If any of those methods are defined for an object, it can be termed as a descriptor. Normally, Python uses methods like getters and setters to adjust the values on attributes without any special processing. It’s just a basic storage system. Sometimes, You might need to validate the values that are being assigned to a value. A descriptor is a mechanism behind properties, methods, static methods, class methods, and super()."
   ]
  },
  {
   "cell_type": "markdown",
   "metadata": {},
   "source": [
    "Q3. What are the key differences in functionality between getattr and getattribute, as well as properties and descriptors?\n",
    "\n",
    "ANS-Going back to the getattribute function; if the default implementation was not overridden; the following checks are done when executing the method:\n",
    "\n",
    "Check if there is a descriptor with the same name (attribute name) defined in any class in the MRO chain (method object resolution) Then looks into the instance’s namespace Then looks into the class namespace Then into each base’s namespace and so on. Finally, if not found, the default implementation calls the fallback getattr() method of the instance and it raises an AttributeError exception as default implementation.\n",
    "\n",
    "You should read the docs on what descriptors actually are. The Cliff's Notes version: descriptors are a low-level mechanism that lets you hook into an object's attributes being accessed. Properties are a high-level application of this; that is, properties are implemented using descriptors. Or, better yet, properties are descriptors that are already provided for you in the standard library.\n",
    "\n",
    "If you need a simple way to return a computed value from an attribute read, or to call a function on an attribute write, use the @property decorator. The descriptor API is more flexible, but less convenient, and arguably \"overkill\" and non-idiomatic in this situation. It's useful for more advanced use cases, like implementing bound methods, or static and class methods; when you need to know, for example, if the attribute was accessed through the type object, or an instance of the type."
   ]
  }
 ],
 "metadata": {
  "language_info": {
   "name": "python"
  },
  "orig_nbformat": 4
 },
 "nbformat": 4,
 "nbformat_minor": 2
}
